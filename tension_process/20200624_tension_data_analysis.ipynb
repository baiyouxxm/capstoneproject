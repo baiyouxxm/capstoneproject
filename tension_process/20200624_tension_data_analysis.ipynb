{
 "cells": [
  {
   "cell_type": "code",
   "execution_count": 2,
   "metadata": {},
   "outputs": [],
   "source": [
    "import pandas as pd\n",
    "import glob\n",
    "import numpy as np\n",
    "\n",
    "path = r'C:\\Users\\xaa2cng\\Documents\\tension\\Tension_20200623' # use your path\n",
    "all_files = glob.glob(path + \"/*.csv\")\n",
    "\n",
    "li = []\n",
    "\n",
    "for filename in all_files:\n",
    "    df = pd.read_csv(filename, index_col=None, header=0)\n",
    "    li.append(df)\n",
    "\n",
    "frame = pd.concat(li, axis=0, ignore_index=True)"
   ]
  },
  {
   "cell_type": "code",
   "execution_count": 3,
   "metadata": {},
   "outputs": [
    {
     "data": {
      "text/plain": [
       "(310932, 8)"
      ]
     },
     "execution_count": 3,
     "metadata": {},
     "output_type": "execute_result"
    }
   ],
   "source": [
    "frame.shape"
   ]
  },
  {
   "cell_type": "code",
   "execution_count": 115,
   "metadata": {},
   "outputs": [
    {
     "data": {
      "text/plain": [
       "50.15032258064516"
      ]
     },
     "execution_count": 115,
     "metadata": {},
     "output_type": "execute_result"
    }
   ],
   "source": [
    "310932/6200"
   ]
  },
  {
   "cell_type": "code",
   "execution_count": 6,
   "metadata": {},
   "outputs": [
    {
     "data": {
      "text/html": [
       "<div>\n",
       "<style scoped>\n",
       "    .dataframe tbody tr th:only-of-type {\n",
       "        vertical-align: middle;\n",
       "    }\n",
       "\n",
       "    .dataframe tbody tr th {\n",
       "        vertical-align: top;\n",
       "    }\n",
       "\n",
       "    .dataframe thead th {\n",
       "        text-align: right;\n",
       "    }\n",
       "</style>\n",
       "<table border=\"1\" class=\"dataframe\">\n",
       "  <thead>\n",
       "    <tr style=\"text-align: right;\">\n",
       "      <th></th>\n",
       "      <th>Unnamed: 0</th>\n",
       "      <th>productNo</th>\n",
       "      <th>readtime</th>\n",
       "      <th>signal</th>\n",
       "      <th>tensionLeft</th>\n",
       "      <th>tensionRight</th>\n",
       "      <th>voltageLeft</th>\n",
       "      <th>voltageRight</th>\n",
       "    </tr>\n",
       "  </thead>\n",
       "  <tbody>\n",
       "    <tr>\n",
       "      <th>0</th>\n",
       "      <td>0</td>\n",
       "      <td>41470</td>\n",
       "      <td>2020-06-23 09:17:45:388</td>\n",
       "      <td>1</td>\n",
       "      <td>8.12073</td>\n",
       "      <td>7.38438</td>\n",
       "      <td>0.13813</td>\n",
       "      <td>0.15542</td>\n",
       "    </tr>\n",
       "    <tr>\n",
       "      <th>1</th>\n",
       "      <td>1</td>\n",
       "      <td>41470</td>\n",
       "      <td>2020-06-23 09:17:45:388</td>\n",
       "      <td>1</td>\n",
       "      <td>8.13416</td>\n",
       "      <td>7.41905</td>\n",
       "      <td>0.13879</td>\n",
       "      <td>0.15659</td>\n",
       "    </tr>\n",
       "    <tr>\n",
       "      <th>2</th>\n",
       "      <td>2</td>\n",
       "      <td>41470</td>\n",
       "      <td>2020-06-23 09:17:45:388</td>\n",
       "      <td>1</td>\n",
       "      <td>8.24574</td>\n",
       "      <td>7.70312</td>\n",
       "      <td>0.13899</td>\n",
       "      <td>0.15683</td>\n",
       "    </tr>\n",
       "    <tr>\n",
       "      <th>3</th>\n",
       "      <td>3</td>\n",
       "      <td>41470</td>\n",
       "      <td>2020-06-23 09:17:45:388</td>\n",
       "      <td>1</td>\n",
       "      <td>8.65932</td>\n",
       "      <td>8.39210</td>\n",
       "      <td>0.13886</td>\n",
       "      <td>0.15652</td>\n",
       "    </tr>\n",
       "    <tr>\n",
       "      <th>4</th>\n",
       "      <td>4</td>\n",
       "      <td>41470</td>\n",
       "      <td>2020-06-23 09:17:45:404</td>\n",
       "      <td>1</td>\n",
       "      <td>9.34770</td>\n",
       "      <td>9.14493</td>\n",
       "      <td>0.13896</td>\n",
       "      <td>0.15682</td>\n",
       "    </tr>\n",
       "  </tbody>\n",
       "</table>\n",
       "</div>"
      ],
      "text/plain": [
       "   Unnamed: 0  productNo                 readtime  signal  tensionLeft  \\\n",
       "0           0      41470  2020-06-23 09:17:45:388       1      8.12073   \n",
       "1           1      41470  2020-06-23 09:17:45:388       1      8.13416   \n",
       "2           2      41470  2020-06-23 09:17:45:388       1      8.24574   \n",
       "3           3      41470  2020-06-23 09:17:45:388       1      8.65932   \n",
       "4           4      41470  2020-06-23 09:17:45:404       1      9.34770   \n",
       "\n",
       "   tensionRight  voltageLeft  voltageRight  \n",
       "0       7.38438      0.13813       0.15542  \n",
       "1       7.41905      0.13879       0.15659  \n",
       "2       7.70312      0.13899       0.15683  \n",
       "3       8.39210      0.13886       0.15652  \n",
       "4       9.14493      0.13896       0.15682  "
      ]
     },
     "execution_count": 6,
     "metadata": {},
     "output_type": "execute_result"
    }
   ],
   "source": [
    "frame.head()"
   ]
  },
  {
   "cell_type": "code",
   "execution_count": 4,
   "metadata": {},
   "outputs": [
    {
     "data": {
      "text/html": [
       "<div>\n",
       "<style scoped>\n",
       "    .dataframe tbody tr th:only-of-type {\n",
       "        vertical-align: middle;\n",
       "    }\n",
       "\n",
       "    .dataframe tbody tr th {\n",
       "        vertical-align: top;\n",
       "    }\n",
       "\n",
       "    .dataframe thead th {\n",
       "        text-align: right;\n",
       "    }\n",
       "</style>\n",
       "<table border=\"1\" class=\"dataframe\">\n",
       "  <thead>\n",
       "    <tr style=\"text-align: right;\">\n",
       "      <th>col_0</th>\n",
       "      <th>count</th>\n",
       "    </tr>\n",
       "    <tr>\n",
       "      <th>productNo</th>\n",
       "      <th></th>\n",
       "    </tr>\n",
       "  </thead>\n",
       "  <tbody>\n",
       "    <tr>\n",
       "      <th>41470</th>\n",
       "      <td>6078</td>\n",
       "    </tr>\n",
       "    <tr>\n",
       "      <th>41478</th>\n",
       "      <td>6070</td>\n",
       "    </tr>\n",
       "    <tr>\n",
       "      <th>41481</th>\n",
       "      <td>34852</td>\n",
       "    </tr>\n",
       "    <tr>\n",
       "      <th>41483</th>\n",
       "      <td>6076</td>\n",
       "    </tr>\n",
       "    <tr>\n",
       "      <th>41488</th>\n",
       "      <td>6075</td>\n",
       "    </tr>\n",
       "    <tr>\n",
       "      <th>41489</th>\n",
       "      <td>6076</td>\n",
       "    </tr>\n",
       "    <tr>\n",
       "      <th>41490</th>\n",
       "      <td>6070</td>\n",
       "    </tr>\n",
       "    <tr>\n",
       "      <th>41492</th>\n",
       "      <td>12327</td>\n",
       "    </tr>\n",
       "    <tr>\n",
       "      <th>41495</th>\n",
       "      <td>6171</td>\n",
       "    </tr>\n",
       "    <tr>\n",
       "      <th>41503</th>\n",
       "      <td>6157</td>\n",
       "    </tr>\n",
       "    <tr>\n",
       "      <th>41507</th>\n",
       "      <td>6280</td>\n",
       "    </tr>\n",
       "    <tr>\n",
       "      <th>41508</th>\n",
       "      <td>6207</td>\n",
       "    </tr>\n",
       "    <tr>\n",
       "      <th>41510</th>\n",
       "      <td>6126</td>\n",
       "    </tr>\n",
       "    <tr>\n",
       "      <th>41513</th>\n",
       "      <td>12258</td>\n",
       "    </tr>\n",
       "    <tr>\n",
       "      <th>41521</th>\n",
       "      <td>6130</td>\n",
       "    </tr>\n",
       "    <tr>\n",
       "      <th>41522</th>\n",
       "      <td>6137</td>\n",
       "    </tr>\n",
       "    <tr>\n",
       "      <th>41523</th>\n",
       "      <td>24532</td>\n",
       "    </tr>\n",
       "    <tr>\n",
       "      <th>41524</th>\n",
       "      <td>18407</td>\n",
       "    </tr>\n",
       "    <tr>\n",
       "      <th>41525</th>\n",
       "      <td>30682</td>\n",
       "    </tr>\n",
       "    <tr>\n",
       "      <th>41526</th>\n",
       "      <td>6128</td>\n",
       "    </tr>\n",
       "    <tr>\n",
       "      <th>41527</th>\n",
       "      <td>6154</td>\n",
       "    </tr>\n",
       "    <tr>\n",
       "      <th>41528</th>\n",
       "      <td>55243</td>\n",
       "    </tr>\n",
       "    <tr>\n",
       "      <th>41529</th>\n",
       "      <td>12281</td>\n",
       "    </tr>\n",
       "    <tr>\n",
       "      <th>41530</th>\n",
       "      <td>6139</td>\n",
       "    </tr>\n",
       "    <tr>\n",
       "      <th>41532</th>\n",
       "      <td>6139</td>\n",
       "    </tr>\n",
       "    <tr>\n",
       "      <th>41534</th>\n",
       "      <td>6137</td>\n",
       "    </tr>\n",
       "  </tbody>\n",
       "</table>\n",
       "</div>"
      ],
      "text/plain": [
       "col_0      count\n",
       "productNo       \n",
       "41470       6078\n",
       "41478       6070\n",
       "41481      34852\n",
       "41483       6076\n",
       "41488       6075\n",
       "41489       6076\n",
       "41490       6070\n",
       "41492      12327\n",
       "41495       6171\n",
       "41503       6157\n",
       "41507       6280\n",
       "41508       6207\n",
       "41510       6126\n",
       "41513      12258\n",
       "41521       6130\n",
       "41522       6137\n",
       "41523      24532\n",
       "41524      18407\n",
       "41525      30682\n",
       "41526       6128\n",
       "41527       6154\n",
       "41528      55243\n",
       "41529      12281\n",
       "41530       6139\n",
       "41532       6139\n",
       "41534       6137"
      ]
     },
     "execution_count": 4,
     "metadata": {},
     "output_type": "execute_result"
    }
   ],
   "source": [
    "my_tab = pd.crosstab(index=frame[\"productNo\"],  # Make a crosstab\n",
    "                              columns=\"count\")      # Name the count column\n",
    "\n",
    "my_tab"
   ]
  },
  {
   "cell_type": "code",
   "execution_count": 11,
   "metadata": {},
   "outputs": [
    {
     "data": {
      "text/plain": [
       "(26, 1)"
      ]
     },
     "execution_count": 11,
     "metadata": {},
     "output_type": "execute_result"
    }
   ],
   "source": [
    "my_tab.shape"
   ]
  },
  {
   "cell_type": "code",
   "execution_count": 12,
   "metadata": {},
   "outputs": [
    {
     "data": {
      "text/plain": [
       "8"
      ]
     },
     "execution_count": 12,
     "metadata": {},
     "output_type": "execute_result"
    }
   ],
   "source": [
    "sum(my_tab['count']>10000)"
   ]
  },
  {
   "cell_type": "code",
   "execution_count": 14,
   "metadata": {},
   "outputs": [
    {
     "data": {
      "text/plain": [
       "18"
      ]
     },
     "execution_count": 14,
     "metadata": {},
     "output_type": "execute_result"
    }
   ],
   "source": [
    "sum(my_tab['count']<6300)"
   ]
  },
  {
   "cell_type": "code",
   "execution_count": 24,
   "metadata": {},
   "outputs": [
    {
     "data": {
      "text/plain": [
       "Int64Index([41470, 41478, 41481, 41483, 41488, 41489, 41490, 41492, 41495,\n",
       "            41503, 41507, 41508, 41510, 41513, 41521, 41522, 41523, 41524,\n",
       "            41525, 41526, 41527, 41528, 41529, 41530, 41532, 41534],\n",
       "           dtype='int64', name='productNo')"
      ]
     },
     "execution_count": 24,
     "metadata": {},
     "output_type": "execute_result"
    }
   ],
   "source": [
    "my_tab.iloc[:,0].index"
   ]
  },
  {
   "cell_type": "code",
   "execution_count": 28,
   "metadata": {},
   "outputs": [],
   "source": [
    "productid=my_tab.index[0]"
   ]
  },
  {
   "cell_type": "code",
   "execution_count": 31,
   "metadata": {},
   "outputs": [],
   "source": [
    "subframe=frame[frame['productNo']==productid]"
   ]
  },
  {
   "cell_type": "code",
   "execution_count": 35,
   "metadata": {},
   "outputs": [
    {
     "data": {
      "image/png": "[encoded data removed]",
      "text/plain": [
       "<Figure size 432x288 with 1 Axes>"
      ]
     },
     "metadata": {
      "needs_background": "light"
     },
     "output_type": "display_data"
    }
   ],
   "source": [
    "import matplotlib.pyplot as plt \n",
    "plt.plot(subframe['tensionLeft'])\n",
    "plt.plot(subframe['tensionRight'])\n",
    "plt.plot(subframe['voltageLeft'])\n",
    "plt.plot(subframe['voltageRight'])\n",
    "plt.legend(['tensionLeft', 'tensionRight', 'voltageLeft', 'voltageRight'], loc='upper left')\n",
    "plt.show()"
   ]
  },
  {
   "cell_type": "code",
   "execution_count": 37,
   "metadata": {},
   "outputs": [
    {
     "data": {
      "text/plain": [
       "[<matplotlib.lines.Line2D at 0x23ed2979948>]"
      ]
     },
     "execution_count": 37,
     "metadata": {},
     "output_type": "execute_result"
    },
    {
     "data": {
      "image/png": "[encoded data removed]",
      "text/plain": [
       "<Figure size 432x288 with 4 Axes>"
      ]
     },
     "metadata": {
      "needs_background": "light"
     },
     "output_type": "display_data"
    }
   ],
   "source": [
    "fig, (ax1, ax2, ax3, ax4) = plt.subplots(4, sharex=True)\n",
    "fig.suptitle('Axes values are scaled individually by default')\n",
    "ax1.plot(['tensionLeft'])\n",
    "ax2.plot(subframe['tensionRight'])\n",
    "ax3.plot(subframe['voltageLeft'])\n",
    "ax4.plot(subframe['voltageRight'])"
   ]
  },
  {
   "cell_type": "code",
   "execution_count": 41,
   "metadata": {},
   "outputs": [
    {
     "data": {
      "image/png": "[encoded data removed]",
      "text/plain": [
       "<Figure size 432x288 with 4 Axes>"
      ]
     },
     "metadata": {
      "needs_background": "light"
     },
     "output_type": "display_data"
    }
   ],
   "source": [
    "fig, axs = plt.subplots(2, 2)\n",
    "axs[0, 0].plot(subframe['tensionLeft'])\n",
    "axs[0, 0].set_title('tensionLeft')\n",
    "axs[0, 1].plot(subframe['tensionRight'])\n",
    "axs[0, 1].set_title('tensionRight')\n",
    "axs[1, 0].plot(subframe['voltageLeft'])\n",
    "axs[1, 0].set_title('voltageLeft')\n",
    "axs[1, 1].plot(subframe['voltageRight'])\n",
    "axs[1, 1].set_title('voltageRight')\n",
    "\n",
    "for ax in axs.flat:\n",
    "    ax.set(xlabel='x-label', ylabel='y-label')\n",
    "\n",
    "# Hide x labels and tick labels for top plots and y ticks for right plots.\n",
    "for ax in axs.flat:\n",
    "    ax.label_outer()"
   ]
  },
  {
   "cell_type": "code",
   "execution_count": 68,
   "metadata": {},
   "outputs": [
    {
     "name": "stderr",
     "output_type": "stream",
     "text": [
      "C:\\Program Files\\Anaconda3\\lib\\site-packages\\ipykernel_launcher.py:5: RuntimeWarning: More than 20 figures have been opened. Figures created through the pyplot interface (`matplotlib.pyplot.figure`) are retained until explicitly closed and may consume too much memory. (To control this warning, see the rcParam `figure.max_open_warning`).\n",
      "  \"\"\"\n",
      "C:\\Program Files\\Anaconda3\\lib\\site-packages\\ipykernel_launcher.py:4: RuntimeWarning: More than 20 figures have been opened. Figures created through the pyplot interface (`matplotlib.pyplot.figure`) are retained until explicitly closed and may consume too much memory. (To control this warning, see the rcParam `figure.max_open_warning`).\n",
      "  after removing the cwd from sys.path.\n"
     ]
    },
    {
     "data": {
      "text/plain": [
       "<Figure size 432x288 with 0 Axes>"
      ]
     },
     "metadata": {},
     "output_type": "display_data"
    },
    {
     "data": {
      "text/plain": [
       "<Figure size 432x288 with 0 Axes>"
      ]
     },
     "metadata": {},
     "output_type": "display_data"
    },
    {
     "data": {
      "text/plain": [
       "<Figure size 432x288 with 0 Axes>"
      ]
     },
     "metadata": {},
     "output_type": "display_data"
    },
    {
     "data": {
      "text/plain": [
       "<Figure size 432x288 with 0 Axes>"
      ]
     },
     "metadata": {},
     "output_type": "display_data"
    },
    {
     "data": {
      "text/plain": [
       "<Figure size 432x288 with 0 Axes>"
      ]
     },
     "metadata": {},
     "output_type": "display_data"
    },
    {
     "data": {
      "text/plain": [
       "<Figure size 432x288 with 0 Axes>"
      ]
     },
     "metadata": {},
     "output_type": "display_data"
    },
    {
     "data": {
      "text/plain": [
       "<Figure size 432x288 with 0 Axes>"
      ]
     },
     "metadata": {},
     "output_type": "display_data"
    },
    {
     "data": {
      "text/plain": [
       "<Figure size 432x288 with 0 Axes>"
      ]
     },
     "metadata": {},
     "output_type": "display_data"
    },
    {
     "data": {
      "text/plain": [
       "<Figure size 432x288 with 0 Axes>"
      ]
     },
     "metadata": {},
     "output_type": "display_data"
    },
    {
     "data": {
      "text/plain": [
       "<Figure size 432x288 with 0 Axes>"
      ]
     },
     "metadata": {},
     "output_type": "display_data"
    },
    {
     "data": {
      "text/plain": [
       "<Figure size 432x288 with 0 Axes>"
      ]
     },
     "metadata": {},
     "output_type": "display_data"
    },
    {
     "data": {
      "text/plain": [
       "<Figure size 432x288 with 0 Axes>"
      ]
     },
     "metadata": {},
     "output_type": "display_data"
    },
    {
     "data": {
      "text/plain": [
       "<Figure size 432x288 with 0 Axes>"
      ]
     },
     "metadata": {},
     "output_type": "display_data"
    },
    {
     "data": {
      "text/plain": [
       "<Figure size 432x288 with 0 Axes>"
      ]
     },
     "metadata": {},
     "output_type": "display_data"
    },
    {
     "data": {
      "text/plain": [
       "<Figure size 432x288 with 0 Axes>"
      ]
     },
     "metadata": {},
     "output_type": "display_data"
    },
    {
     "data": {
      "text/plain": [
       "<Figure size 432x288 with 0 Axes>"
      ]
     },
     "metadata": {},
     "output_type": "display_data"
    },
    {
     "data": {
      "text/plain": [
       "<Figure size 432x288 with 0 Axes>"
      ]
     },
     "metadata": {},
     "output_type": "display_data"
    },
    {
     "data": {
      "text/plain": [
       "<Figure size 432x288 with 0 Axes>"
      ]
     },
     "metadata": {},
     "output_type": "display_data"
    },
    {
     "data": {
      "text/plain": [
       "<Figure size 432x288 with 0 Axes>"
      ]
     },
     "metadata": {},
     "output_type": "display_data"
    },
    {
     "data": {
      "text/plain": [
       "<Figure size 432x288 with 0 Axes>"
      ]
     },
     "metadata": {},
     "output_type": "display_data"
    },
    {
     "data": {
      "text/plain": [
       "<Figure size 432x288 with 0 Axes>"
      ]
     },
     "metadata": {},
     "output_type": "display_data"
    },
    {
     "data": {
      "text/plain": [
       "<Figure size 432x288 with 0 Axes>"
      ]
     },
     "metadata": {},
     "output_type": "display_data"
    },
    {
     "data": {
      "text/plain": [
       "<Figure size 432x288 with 0 Axes>"
      ]
     },
     "metadata": {},
     "output_type": "display_data"
    },
    {
     "data": {
      "text/plain": [
       "<Figure size 432x288 with 0 Axes>"
      ]
     },
     "metadata": {},
     "output_type": "display_data"
    },
    {
     "data": {
      "text/plain": [
       "<Figure size 432x288 with 0 Axes>"
      ]
     },
     "metadata": {},
     "output_type": "display_data"
    },
    {
     "data": {
      "text/plain": [
       "<Figure size 432x288 with 0 Axes>"
      ]
     },
     "metadata": {},
     "output_type": "display_data"
    }
   ],
   "source": [
    "for i in range(26):\n",
    "    productid=my_tab.index[i]\n",
    "    subframe=frame[frame['productNo']==productid]\n",
    "    plt.figure()\n",
    "    fig, (ax1, ax2, ax3, ax4) = plt.subplots(4, sharex=True)\n",
    "    fig.suptitle('Variables change through product ID '+str(productid))\n",
    "    ax1.plot(np.arange(subframe.shape[0])+1,subframe['tensionLeft'])\n",
    "    ax2.plot(np.arange(subframe.shape[0])+1,subframe['tensionRight'])\n",
    "    ax3.plot(np.arange(subframe.shape[0])+1,subframe['voltageLeft'])\n",
    "    ax4.plot(np.arange(subframe.shape[0])+1,subframe['voltageRight'])\n",
    "    #plt.xlabel('Time(ms)')\n",
    "    #plt.ylabel('EMG voltage(microV)')\n",
    "    plt.savefig('Tension {0}.jpg'.format(productid))\n",
    "    plt.close()"
   ]
  },
  {
   "cell_type": "code",
   "execution_count": 65,
   "metadata": {},
   "outputs": [
    {
     "data": {
      "text/plain": [
       "<Figure size 432x288 with 0 Axes>"
      ]
     },
     "metadata": {},
     "output_type": "display_data"
    },
    {
     "data": {
      "image/png": "[encoded data removed]",
      "text/plain": [
       "<Figure size 432x288 with 4 Axes>"
      ]
     },
     "metadata": {
      "needs_background": "light"
     },
     "output_type": "display_data"
    }
   ],
   "source": [
    "i=2\n",
    "productid=my_tab.index[i]\n",
    "subframe=frame[frame['productNo']==productid]\n",
    "plt.figure()\n",
    "fig, (ax1, ax2, ax3, ax4) = plt.subplots(4, sharex=True)\n",
    "fig.suptitle('Axes values are scaled individually by default '+str(productid))\n",
    "ax1.plot(np.arange(subframe.shape[0])+1,subframe['tensionLeft'])\n",
    "ax2.plot(np.arange(subframe.shape[0])+1,subframe['tensionRight'])\n",
    "ax3.plot(np.arange(subframe.shape[0])+1,subframe['voltageLeft'])\n",
    "ax4.plot(np.arange(subframe.shape[0])+1,subframe['voltageRight'])\n",
    "plt.show()"
   ]
  },
  {
   "cell_type": "code",
   "execution_count": 5,
   "metadata": {},
   "outputs": [],
   "source": [
    "my_tab2=my_tab[my_tab['count']<6300]"
   ]
  },
  {
   "cell_type": "code",
   "execution_count": 71,
   "metadata": {},
   "outputs": [
    {
     "data": {
      "text/plain": [
       "18"
      ]
     },
     "execution_count": 71,
     "metadata": {},
     "output_type": "execute_result"
    }
   ],
   "source": [
    "my_tab2.size"
   ]
  },
  {
   "cell_type": "code",
   "execution_count": 74,
   "metadata": {},
   "outputs": [
    {
     "data": {
      "text/plain": [
       "<Figure size 432x288 with 0 Axes>"
      ]
     },
     "metadata": {},
     "output_type": "display_data"
    },
    {
     "data": {
      "text/plain": [
       "<Figure size 432x288 with 0 Axes>"
      ]
     },
     "metadata": {},
     "output_type": "display_data"
    },
    {
     "data": {
      "text/plain": [
       "<Figure size 432x288 with 0 Axes>"
      ]
     },
     "metadata": {},
     "output_type": "display_data"
    },
    {
     "data": {
      "text/plain": [
       "<Figure size 432x288 with 0 Axes>"
      ]
     },
     "metadata": {},
     "output_type": "display_data"
    },
    {
     "data": {
      "text/plain": [
       "<Figure size 432x288 with 0 Axes>"
      ]
     },
     "metadata": {},
     "output_type": "display_data"
    },
    {
     "data": {
      "text/plain": [
       "<Figure size 432x288 with 0 Axes>"
      ]
     },
     "metadata": {},
     "output_type": "display_data"
    },
    {
     "data": {
      "text/plain": [
       "<Figure size 432x288 with 0 Axes>"
      ]
     },
     "metadata": {},
     "output_type": "display_data"
    },
    {
     "data": {
      "text/plain": [
       "<Figure size 432x288 with 0 Axes>"
      ]
     },
     "metadata": {},
     "output_type": "display_data"
    },
    {
     "data": {
      "text/plain": [
       "<Figure size 432x288 with 0 Axes>"
      ]
     },
     "metadata": {},
     "output_type": "display_data"
    },
    {
     "data": {
      "text/plain": [
       "<Figure size 432x288 with 0 Axes>"
      ]
     },
     "metadata": {},
     "output_type": "display_data"
    },
    {
     "data": {
      "text/plain": [
       "<Figure size 432x288 with 0 Axes>"
      ]
     },
     "metadata": {},
     "output_type": "display_data"
    },
    {
     "data": {
      "text/plain": [
       "<Figure size 432x288 with 0 Axes>"
      ]
     },
     "metadata": {},
     "output_type": "display_data"
    },
    {
     "data": {
      "text/plain": [
       "<Figure size 432x288 with 0 Axes>"
      ]
     },
     "metadata": {},
     "output_type": "display_data"
    },
    {
     "data": {
      "text/plain": [
       "<Figure size 432x288 with 0 Axes>"
      ]
     },
     "metadata": {},
     "output_type": "display_data"
    },
    {
     "data": {
      "text/plain": [
       "<Figure size 432x288 with 0 Axes>"
      ]
     },
     "metadata": {},
     "output_type": "display_data"
    },
    {
     "data": {
      "text/plain": [
       "<Figure size 432x288 with 0 Axes>"
      ]
     },
     "metadata": {},
     "output_type": "display_data"
    },
    {
     "data": {
      "text/plain": [
       "<Figure size 432x288 with 0 Axes>"
      ]
     },
     "metadata": {},
     "output_type": "display_data"
    },
    {
     "data": {
      "text/plain": [
       "<Figure size 432x288 with 0 Axes>"
      ]
     },
     "metadata": {},
     "output_type": "display_data"
    }
   ],
   "source": [
    "for i in range(18):\n",
    "    productid=my_tab2.index[i]\n",
    "    subframe=frame[frame['productNo']==productid]\n",
    "    plt.figure()\n",
    "    fig, (ax1, ax2, ax3, ax4) = plt.subplots(4, sharex=True)\n",
    "    fig.suptitle('Variables change through product ID '+str(productid))\n",
    "    ax1.plot(np.arange(subframe.shape[0])+1,subframe['tensionLeft'])\n",
    "    ax2.plot(np.arange(subframe.shape[0])+1,subframe['tensionRight'])\n",
    "    ax3.plot(np.arange(subframe.shape[0])+1,subframe['voltageLeft'])\n",
    "    ax4.plot(np.arange(subframe.shape[0])+1,subframe['voltageRight'])\n",
    "    #plt.xlabel('Time(ms)')\n",
    "    #plt.ylabel('EMG voltage(microV)')\n",
    "    plt.savefig('Tension {0}.jpg'.format(productid))\n",
    "    plt.close()"
   ]
  },
  {
   "cell_type": "code",
   "execution_count": 85,
   "metadata": {},
   "outputs": [
    {
     "name": "stderr",
     "output_type": "stream",
     "text": [
      "C:\\Program Files\\Anaconda3\\lib\\site-packages\\pandas\\core\\frame.py:3940: SettingWithCopyWarning: \n",
      "A value is trying to be set on a copy of a slice from a DataFrame\n",
      "\n",
      "See the caveats in the documentation: http://pandas.pydata.org/pandas-docs/stable/indexing.html#indexing-view-versus-copy\n",
      "  errors=errors)\n"
     ]
    }
   ],
   "source": [
    "    i=1\n",
    "    productid=my_tab2.index[i]\n",
    "    subframe=frame[frame['productNo']==productid]\n",
    "    subframe.drop(['Unnamed: 0','signal'],axis=1,inplace=True)"
   ]
  },
  {
   "cell_type": "code",
   "execution_count": 86,
   "metadata": {},
   "outputs": [],
   "source": [
    "statframe=subframe.describe()"
   ]
  },
  {
   "cell_type": "code",
   "execution_count": 87,
   "metadata": {},
   "outputs": [
    {
     "data": {
      "text/html": [
       "<div>\n",
       "<style scoped>\n",
       "    .dataframe tbody tr th:only-of-type {\n",
       "        vertical-align: middle;\n",
       "    }\n",
       "\n",
       "    .dataframe tbody tr th {\n",
       "        vertical-align: top;\n",
       "    }\n",
       "\n",
       "    .dataframe thead th {\n",
       "        text-align: right;\n",
       "    }\n",
       "</style>\n",
       "<table border=\"1\" class=\"dataframe\">\n",
       "  <thead>\n",
       "    <tr style=\"text-align: right;\">\n",
       "      <th></th>\n",
       "      <th>productNo</th>\n",
       "      <th>tensionLeft</th>\n",
       "      <th>tensionRight</th>\n",
       "      <th>voltageLeft</th>\n",
       "      <th>voltageRight</th>\n",
       "    </tr>\n",
       "  </thead>\n",
       "  <tbody>\n",
       "    <tr>\n",
       "      <th>count</th>\n",
       "      <td>6070.0</td>\n",
       "      <td>6070.000000</td>\n",
       "      <td>6070.000000</td>\n",
       "      <td>6070.000000</td>\n",
       "      <td>6070.000000</td>\n",
       "    </tr>\n",
       "    <tr>\n",
       "      <th>mean</th>\n",
       "      <td>41478.0</td>\n",
       "      <td>9.894549</td>\n",
       "      <td>9.836548</td>\n",
       "      <td>0.120219</td>\n",
       "      <td>0.135463</td>\n",
       "    </tr>\n",
       "    <tr>\n",
       "      <th>std</th>\n",
       "      <td>0.0</td>\n",
       "      <td>2.000005</td>\n",
       "      <td>2.412962</td>\n",
       "      <td>0.020043</td>\n",
       "      <td>0.023114</td>\n",
       "    </tr>\n",
       "    <tr>\n",
       "      <th>min</th>\n",
       "      <td>41478.0</td>\n",
       "      <td>5.615650</td>\n",
       "      <td>4.361340</td>\n",
       "      <td>0.077740</td>\n",
       "      <td>0.086570</td>\n",
       "    </tr>\n",
       "    <tr>\n",
       "      <th>25%</th>\n",
       "      <td>41478.0</td>\n",
       "      <td>8.169960</td>\n",
       "      <td>8.385872</td>\n",
       "      <td>0.110420</td>\n",
       "      <td>0.124200</td>\n",
       "    </tr>\n",
       "    <tr>\n",
       "      <th>50%</th>\n",
       "      <td>41478.0</td>\n",
       "      <td>9.958555</td>\n",
       "      <td>9.672595</td>\n",
       "      <td>0.125130</td>\n",
       "      <td>0.141030</td>\n",
       "    </tr>\n",
       "    <tr>\n",
       "      <th>75%</th>\n",
       "      <td>41478.0</td>\n",
       "      <td>11.298810</td>\n",
       "      <td>11.095310</td>\n",
       "      <td>0.137960</td>\n",
       "      <td>0.155750</td>\n",
       "    </tr>\n",
       "    <tr>\n",
       "      <th>max</th>\n",
       "      <td>41478.0</td>\n",
       "      <td>16.930080</td>\n",
       "      <td>19.621200</td>\n",
       "      <td>0.144490</td>\n",
       "      <td>0.162700</td>\n",
       "    </tr>\n",
       "  </tbody>\n",
       "</table>\n",
       "</div>"
      ],
      "text/plain": [
       "       productNo  tensionLeft  tensionRight  voltageLeft  voltageRight\n",
       "count     6070.0  6070.000000   6070.000000  6070.000000   6070.000000\n",
       "mean     41478.0     9.894549      9.836548     0.120219      0.135463\n",
       "std          0.0     2.000005      2.412962     0.020043      0.023114\n",
       "min      41478.0     5.615650      4.361340     0.077740      0.086570\n",
       "25%      41478.0     8.169960      8.385872     0.110420      0.124200\n",
       "50%      41478.0     9.958555      9.672595     0.125130      0.141030\n",
       "75%      41478.0    11.298810     11.095310     0.137960      0.155750\n",
       "max      41478.0    16.930080     19.621200     0.144490      0.162700"
      ]
     },
     "execution_count": 87,
     "metadata": {},
     "output_type": "execute_result"
    }
   ],
   "source": [
    "statframe"
   ]
  },
  {
   "cell_type": "code",
   "execution_count": 64,
   "metadata": {},
   "outputs": [
    {
     "name": "stderr",
     "output_type": "stream",
     "text": [
      "C:\\Program Files\\Anaconda3\\lib\\site-packages\\pandas\\core\\frame.py:3940: SettingWithCopyWarning: \n",
      "A value is trying to be set on a copy of a slice from a DataFrame\n",
      "\n",
      "See the caveats in the documentation: http://pandas.pydata.org/pandas-docs/stable/indexing.html#indexing-view-versus-copy\n",
      "  errors=errors)\n"
     ]
    }
   ],
   "source": [
    "li = []\n",
    "\n",
    "for i in range(18):\n",
    "    productid=my_tab2.index[i]\n",
    "    subframe=frame[frame['productNo']==productid]\n",
    "    subframe.drop(['Unnamed: 0','signal'],axis=1,inplace=True)\n",
    "    statframe=subframe.describe()\n",
    "    li.append(statframe)\n",
    "\n",
    "statframetotal = pd.concat(li, axis=0, ignore_index=False)"
   ]
  },
  {
   "cell_type": "code",
   "execution_count": 65,
   "metadata": {},
   "outputs": [
    {
     "data": {
      "text/html": [
       "<div>\n",
       "<style scoped>\n",
       "    .dataframe tbody tr th:only-of-type {\n",
       "        vertical-align: middle;\n",
       "    }\n",
       "\n",
       "    .dataframe tbody tr th {\n",
       "        vertical-align: top;\n",
       "    }\n",
       "\n",
       "    .dataframe thead th {\n",
       "        text-align: right;\n",
       "    }\n",
       "</style>\n",
       "<table border=\"1\" class=\"dataframe\">\n",
       "  <thead>\n",
       "    <tr style=\"text-align: right;\">\n",
       "      <th></th>\n",
       "      <th>productNo</th>\n",
       "      <th>tensionLeft</th>\n",
       "      <th>tensionRight</th>\n",
       "      <th>voltageLeft</th>\n",
       "      <th>voltageRight</th>\n",
       "    </tr>\n",
       "  </thead>\n",
       "  <tbody>\n",
       "    <tr>\n",
       "      <th>mean</th>\n",
       "      <td>41470.0</td>\n",
       "      <td>9.825874</td>\n",
       "      <td>9.767522</td>\n",
       "      <td>0.120196</td>\n",
       "      <td>0.135465</td>\n",
       "    </tr>\n",
       "    <tr>\n",
       "      <th>mean</th>\n",
       "      <td>41478.0</td>\n",
       "      <td>9.894549</td>\n",
       "      <td>9.836548</td>\n",
       "      <td>0.120219</td>\n",
       "      <td>0.135463</td>\n",
       "    </tr>\n",
       "    <tr>\n",
       "      <th>mean</th>\n",
       "      <td>41483.0</td>\n",
       "      <td>9.874737</td>\n",
       "      <td>9.647107</td>\n",
       "      <td>0.120295</td>\n",
       "      <td>0.135542</td>\n",
       "    </tr>\n",
       "    <tr>\n",
       "      <th>mean</th>\n",
       "      <td>41488.0</td>\n",
       "      <td>9.869526</td>\n",
       "      <td>10.160863</td>\n",
       "      <td>0.120260</td>\n",
       "      <td>0.135494</td>\n",
       "    </tr>\n",
       "    <tr>\n",
       "      <th>mean</th>\n",
       "      <td>41489.0</td>\n",
       "      <td>9.827919</td>\n",
       "      <td>10.413313</td>\n",
       "      <td>0.120217</td>\n",
       "      <td>0.135467</td>\n",
       "    </tr>\n",
       "    <tr>\n",
       "      <th>mean</th>\n",
       "      <td>41490.0</td>\n",
       "      <td>9.735319</td>\n",
       "      <td>10.178791</td>\n",
       "      <td>0.120246</td>\n",
       "      <td>0.135529</td>\n",
       "    </tr>\n",
       "    <tr>\n",
       "      <th>mean</th>\n",
       "      <td>41495.0</td>\n",
       "      <td>9.741724</td>\n",
       "      <td>10.395012</td>\n",
       "      <td>0.120278</td>\n",
       "      <td>0.135557</td>\n",
       "    </tr>\n",
       "    <tr>\n",
       "      <th>mean</th>\n",
       "      <td>41503.0</td>\n",
       "      <td>9.889731</td>\n",
       "      <td>10.269982</td>\n",
       "      <td>0.120210</td>\n",
       "      <td>0.135501</td>\n",
       "    </tr>\n",
       "    <tr>\n",
       "      <th>mean</th>\n",
       "      <td>41507.0</td>\n",
       "      <td>9.909862</td>\n",
       "      <td>10.367859</td>\n",
       "      <td>0.120571</td>\n",
       "      <td>0.135916</td>\n",
       "    </tr>\n",
       "    <tr>\n",
       "      <th>mean</th>\n",
       "      <td>41508.0</td>\n",
       "      <td>9.875580</td>\n",
       "      <td>10.149720</td>\n",
       "      <td>0.120487</td>\n",
       "      <td>0.135761</td>\n",
       "    </tr>\n",
       "    <tr>\n",
       "      <th>mean</th>\n",
       "      <td>41510.0</td>\n",
       "      <td>9.882581</td>\n",
       "      <td>10.195046</td>\n",
       "      <td>0.120184</td>\n",
       "      <td>0.135465</td>\n",
       "    </tr>\n",
       "    <tr>\n",
       "      <th>mean</th>\n",
       "      <td>41521.0</td>\n",
       "      <td>9.707395</td>\n",
       "      <td>10.328496</td>\n",
       "      <td>0.120152</td>\n",
       "      <td>0.135397</td>\n",
       "    </tr>\n",
       "    <tr>\n",
       "      <th>mean</th>\n",
       "      <td>41522.0</td>\n",
       "      <td>9.755646</td>\n",
       "      <td>10.337996</td>\n",
       "      <td>0.120103</td>\n",
       "      <td>0.135360</td>\n",
       "    </tr>\n",
       "    <tr>\n",
       "      <th>mean</th>\n",
       "      <td>41526.0</td>\n",
       "      <td>9.856377</td>\n",
       "      <td>10.229422</td>\n",
       "      <td>0.120214</td>\n",
       "      <td>0.135446</td>\n",
       "    </tr>\n",
       "    <tr>\n",
       "      <th>mean</th>\n",
       "      <td>41527.0</td>\n",
       "      <td>9.742680</td>\n",
       "      <td>10.091170</td>\n",
       "      <td>0.120124</td>\n",
       "      <td>0.135383</td>\n",
       "    </tr>\n",
       "    <tr>\n",
       "      <th>mean</th>\n",
       "      <td>41530.0</td>\n",
       "      <td>9.899472</td>\n",
       "      <td>10.084499</td>\n",
       "      <td>0.120219</td>\n",
       "      <td>0.135478</td>\n",
       "    </tr>\n",
       "    <tr>\n",
       "      <th>mean</th>\n",
       "      <td>41532.0</td>\n",
       "      <td>9.796593</td>\n",
       "      <td>9.990524</td>\n",
       "      <td>0.120278</td>\n",
       "      <td>0.135558</td>\n",
       "    </tr>\n",
       "    <tr>\n",
       "      <th>mean</th>\n",
       "      <td>41534.0</td>\n",
       "      <td>9.775287</td>\n",
       "      <td>10.092500</td>\n",
       "      <td>0.120155</td>\n",
       "      <td>0.135423</td>\n",
       "    </tr>\n",
       "  </tbody>\n",
       "</table>\n",
       "</div>"
      ],
      "text/plain": [
       "      productNo  tensionLeft  tensionRight  voltageLeft  voltageRight\n",
       "mean    41470.0     9.825874      9.767522     0.120196      0.135465\n",
       "mean    41478.0     9.894549      9.836548     0.120219      0.135463\n",
       "mean    41483.0     9.874737      9.647107     0.120295      0.135542\n",
       "mean    41488.0     9.869526     10.160863     0.120260      0.135494\n",
       "mean    41489.0     9.827919     10.413313     0.120217      0.135467\n",
       "mean    41490.0     9.735319     10.178791     0.120246      0.135529\n",
       "mean    41495.0     9.741724     10.395012     0.120278      0.135557\n",
       "mean    41503.0     9.889731     10.269982     0.120210      0.135501\n",
       "mean    41507.0     9.909862     10.367859     0.120571      0.135916\n",
       "mean    41508.0     9.875580     10.149720     0.120487      0.135761\n",
       "mean    41510.0     9.882581     10.195046     0.120184      0.135465\n",
       "mean    41521.0     9.707395     10.328496     0.120152      0.135397\n",
       "mean    41522.0     9.755646     10.337996     0.120103      0.135360\n",
       "mean    41526.0     9.856377     10.229422     0.120214      0.135446\n",
       "mean    41527.0     9.742680     10.091170     0.120124      0.135383\n",
       "mean    41530.0     9.899472     10.084499     0.120219      0.135478\n",
       "mean    41532.0     9.796593      9.990524     0.120278      0.135558\n",
       "mean    41534.0     9.775287     10.092500     0.120155      0.135423"
      ]
     },
     "execution_count": 65,
     "metadata": {},
     "output_type": "execute_result"
    }
   ],
   "source": [
    "statframetotal.loc['mean'] "
   ]
  },
  {
   "cell_type": "code",
   "execution_count": 98,
   "metadata": {},
   "outputs": [
    {
     "data": {
      "text/html": [
       "<div>\n",
       "<style scoped>\n",
       "    .dataframe tbody tr th:only-of-type {\n",
       "        vertical-align: middle;\n",
       "    }\n",
       "\n",
       "    .dataframe tbody tr th {\n",
       "        vertical-align: top;\n",
       "    }\n",
       "\n",
       "    .dataframe thead th {\n",
       "        text-align: right;\n",
       "    }\n",
       "</style>\n",
       "<table border=\"1\" class=\"dataframe\">\n",
       "  <thead>\n",
       "    <tr style=\"text-align: right;\">\n",
       "      <th></th>\n",
       "      <th>productNo</th>\n",
       "      <th>tensionLeft</th>\n",
       "      <th>tensionRight</th>\n",
       "      <th>voltageLeft</th>\n",
       "      <th>voltageRight</th>\n",
       "    </tr>\n",
       "  </thead>\n",
       "  <tbody>\n",
       "    <tr>\n",
       "      <th>min</th>\n",
       "      <td>41470.0</td>\n",
       "      <td>5.07547</td>\n",
       "      <td>4.63588</td>\n",
       "      <td>0.07750</td>\n",
       "      <td>0.08679</td>\n",
       "    </tr>\n",
       "    <tr>\n",
       "      <th>min</th>\n",
       "      <td>41478.0</td>\n",
       "      <td>5.61565</td>\n",
       "      <td>4.36134</td>\n",
       "      <td>0.07774</td>\n",
       "      <td>0.08657</td>\n",
       "    </tr>\n",
       "    <tr>\n",
       "      <th>min</th>\n",
       "      <td>41483.0</td>\n",
       "      <td>5.60344</td>\n",
       "      <td>4.42811</td>\n",
       "      <td>0.07780</td>\n",
       "      <td>0.08681</td>\n",
       "    </tr>\n",
       "    <tr>\n",
       "      <th>min</th>\n",
       "      <td>41488.0</td>\n",
       "      <td>5.48991</td>\n",
       "      <td>5.05106</td>\n",
       "      <td>0.07755</td>\n",
       "      <td>0.08618</td>\n",
       "    </tr>\n",
       "    <tr>\n",
       "      <th>min</th>\n",
       "      <td>41489.0</td>\n",
       "      <td>5.38090</td>\n",
       "      <td>4.90799</td>\n",
       "      <td>0.07759</td>\n",
       "      <td>0.08692</td>\n",
       "    </tr>\n",
       "    <tr>\n",
       "      <th>min</th>\n",
       "      <td>41490.0</td>\n",
       "      <td>5.35356</td>\n",
       "      <td>4.47853</td>\n",
       "      <td>0.07785</td>\n",
       "      <td>0.08692</td>\n",
       "    </tr>\n",
       "    <tr>\n",
       "      <th>min</th>\n",
       "      <td>41495.0</td>\n",
       "      <td>5.26066</td>\n",
       "      <td>5.08206</td>\n",
       "      <td>0.07758</td>\n",
       "      <td>0.08662</td>\n",
       "    </tr>\n",
       "    <tr>\n",
       "      <th>min</th>\n",
       "      <td>41503.0</td>\n",
       "      <td>5.65166</td>\n",
       "      <td>4.90896</td>\n",
       "      <td>0.07765</td>\n",
       "      <td>0.08651</td>\n",
       "    </tr>\n",
       "    <tr>\n",
       "      <th>min</th>\n",
       "      <td>41507.0</td>\n",
       "      <td>5.58953</td>\n",
       "      <td>4.84854</td>\n",
       "      <td>0.07759</td>\n",
       "      <td>0.08661</td>\n",
       "    </tr>\n",
       "    <tr>\n",
       "      <th>min</th>\n",
       "      <td>41508.0</td>\n",
       "      <td>5.48283</td>\n",
       "      <td>5.05008</td>\n",
       "      <td>0.07768</td>\n",
       "      <td>0.08676</td>\n",
       "    </tr>\n",
       "    <tr>\n",
       "      <th>min</th>\n",
       "      <td>41510.0</td>\n",
       "      <td>5.41752</td>\n",
       "      <td>4.79189</td>\n",
       "      <td>0.07767</td>\n",
       "      <td>0.08657</td>\n",
       "    </tr>\n",
       "    <tr>\n",
       "      <th>min</th>\n",
       "      <td>41521.0</td>\n",
       "      <td>5.24345</td>\n",
       "      <td>5.10221</td>\n",
       "      <td>0.07768</td>\n",
       "      <td>0.08653</td>\n",
       "    </tr>\n",
       "    <tr>\n",
       "      <th>min</th>\n",
       "      <td>41522.0</td>\n",
       "      <td>5.20768</td>\n",
       "      <td>5.05228</td>\n",
       "      <td>0.07781</td>\n",
       "      <td>0.08684</td>\n",
       "    </tr>\n",
       "    <tr>\n",
       "      <th>min</th>\n",
       "      <td>41526.0</td>\n",
       "      <td>5.50615</td>\n",
       "      <td>5.03751</td>\n",
       "      <td>0.07794</td>\n",
       "      <td>0.08694</td>\n",
       "    </tr>\n",
       "    <tr>\n",
       "      <th>min</th>\n",
       "      <td>41527.0</td>\n",
       "      <td>5.17411</td>\n",
       "      <td>4.84561</td>\n",
       "      <td>0.07736</td>\n",
       "      <td>0.08676</td>\n",
       "    </tr>\n",
       "    <tr>\n",
       "      <th>min</th>\n",
       "      <td>41530.0</td>\n",
       "      <td>5.42326</td>\n",
       "      <td>4.97305</td>\n",
       "      <td>0.07786</td>\n",
       "      <td>0.08700</td>\n",
       "    </tr>\n",
       "    <tr>\n",
       "      <th>min</th>\n",
       "      <td>41532.0</td>\n",
       "      <td>5.48210</td>\n",
       "      <td>5.09488</td>\n",
       "      <td>0.07773</td>\n",
       "      <td>0.08685</td>\n",
       "    </tr>\n",
       "    <tr>\n",
       "      <th>min</th>\n",
       "      <td>41534.0</td>\n",
       "      <td>5.11893</td>\n",
       "      <td>4.86331</td>\n",
       "      <td>0.07674</td>\n",
       "      <td>0.08680</td>\n",
       "    </tr>\n",
       "  </tbody>\n",
       "</table>\n",
       "</div>"
      ],
      "text/plain": [
       "     productNo  tensionLeft  tensionRight  voltageLeft  voltageRight\n",
       "min    41470.0      5.07547       4.63588      0.07750       0.08679\n",
       "min    41478.0      5.61565       4.36134      0.07774       0.08657\n",
       "min    41483.0      5.60344       4.42811      0.07780       0.08681\n",
       "min    41488.0      5.48991       5.05106      0.07755       0.08618\n",
       "min    41489.0      5.38090       4.90799      0.07759       0.08692\n",
       "min    41490.0      5.35356       4.47853      0.07785       0.08692\n",
       "min    41495.0      5.26066       5.08206      0.07758       0.08662\n",
       "min    41503.0      5.65166       4.90896      0.07765       0.08651\n",
       "min    41507.0      5.58953       4.84854      0.07759       0.08661\n",
       "min    41508.0      5.48283       5.05008      0.07768       0.08676\n",
       "min    41510.0      5.41752       4.79189      0.07767       0.08657\n",
       "min    41521.0      5.24345       5.10221      0.07768       0.08653\n",
       "min    41522.0      5.20768       5.05228      0.07781       0.08684\n",
       "min    41526.0      5.50615       5.03751      0.07794       0.08694\n",
       "min    41527.0      5.17411       4.84561      0.07736       0.08676\n",
       "min    41530.0      5.42326       4.97305      0.07786       0.08700\n",
       "min    41532.0      5.48210       5.09488      0.07773       0.08685\n",
       "min    41534.0      5.11893       4.86331      0.07674       0.08680"
      ]
     },
     "execution_count": 98,
     "metadata": {},
     "output_type": "execute_result"
    }
   ],
   "source": [
    "dfmin=statframetotal.loc['min'] "
   ]
  },
  {
   "cell_type": "code",
   "execution_count": 66,
   "metadata": {},
   "outputs": [
    {
     "data": {
      "text/plain": [
       "[       productNo  tensionLeft  tensionRight  voltageLeft  voltageRight\n",
       " count     6078.0  6078.000000   6078.000000  6078.000000   6078.000000\n",
       " mean     41470.0     9.825874      9.767522     0.120196      0.135465\n",
       " std          0.0     2.148951      2.394245     0.020078      0.023143\n",
       " min      41470.0     5.075470      4.635880     0.077500      0.086790\n",
       " 25%      41470.0     8.212775      8.350780     0.110500      0.124310\n",
       " 50%      41470.0     9.904480      9.621390     0.125110      0.140980\n",
       " 75%      41470.0    11.347787     10.954432     0.137960      0.155800\n",
       " max      41470.0    16.879540     19.995730     0.144480      0.162650,\n",
       "        productNo  tensionLeft  tensionRight  voltageLeft  voltageRight\n",
       " count     6070.0  6070.000000   6070.000000  6070.000000   6070.000000\n",
       " mean     41478.0     9.894549      9.836548     0.120219      0.135463\n",
       " std          0.0     2.000005      2.412962     0.020043      0.023114\n",
       " min      41478.0     5.615650      4.361340     0.077740      0.086570\n",
       " 25%      41478.0     8.169960      8.385872     0.110420      0.124200\n",
       " 50%      41478.0     9.958555      9.672595     0.125130      0.141030\n",
       " 75%      41478.0    11.298810     11.095310     0.137960      0.155750\n",
       " max      41478.0    16.930080     19.621200     0.144490      0.162700,\n",
       "        productNo  tensionLeft  tensionRight  voltageLeft  voltageRight\n",
       " count     6076.0  6076.000000   6076.000000  6076.000000   6076.000000\n",
       " mean     41483.0     9.874737      9.647107     0.120295      0.135542\n",
       " std          0.0     2.015813      2.390275     0.020018      0.023075\n",
       " min      41483.0     5.603440      4.428110     0.077800      0.086810\n",
       " 25%      41483.0     8.391400      8.136328     0.110550      0.124360\n",
       " 50%      41483.0    10.083925      9.630785     0.125195      0.141040\n",
       " 75%      41483.0    11.145180     10.713983     0.137990      0.155762\n",
       " max      41483.0    16.373550     20.000000     0.144450      0.162720,\n",
       "        productNo  tensionLeft  tensionRight  voltageLeft  voltageRight\n",
       " count     6075.0  6075.000000   6075.000000  6075.000000   6075.000000\n",
       " mean     41488.0     9.869526     10.160863     0.120260      0.135494\n",
       " std          0.0     2.052083      2.423412     0.020014      0.023070\n",
       " min      41488.0     5.489910      5.051060     0.077550      0.086180\n",
       " 25%      41488.0     8.361585      8.301520     0.110400      0.124220\n",
       " 50%      41488.0    10.026060     10.011290     0.125220      0.141030\n",
       " 75%      41488.0    11.176240     11.724295     0.137965      0.155710\n",
       " max      41488.0    17.021880     20.000000     0.144330      0.162700,\n",
       "        productNo  tensionLeft  tensionRight  voltageLeft  voltageRight\n",
       " count     6076.0  6076.000000   6076.000000  6076.000000   6076.000000\n",
       " mean     41489.0     9.827919     10.413313     0.120217      0.135467\n",
       " std          0.0     2.065356      2.366636     0.020042      0.023087\n",
       " min      41489.0     5.380900      4.907990     0.077590      0.086920\n",
       " 25%      41489.0     8.293160      8.587880     0.110310      0.124150\n",
       " 50%      41489.0    10.059205     10.341685     0.125215      0.141050\n",
       " 75%      41489.0    11.139892     12.224130     0.138000      0.155710\n",
       " max      41489.0    16.949610     19.585440     0.144300      0.162620,\n",
       "        productNo  tensionLeft  tensionRight  voltageLeft  voltageRight\n",
       " count     6070.0  6070.000000   6070.000000  6070.000000   6070.000000\n",
       " mean     41490.0     9.735319     10.178791     0.120246      0.135529\n",
       " std          0.0     2.128777      2.426810     0.020048      0.023117\n",
       " min      41490.0     5.353560      4.478530     0.077850      0.086920\n",
       " 25%      41490.0     8.115848      8.462475     0.110420      0.124250\n",
       " 50%      41490.0     9.861935     10.111270     0.125160      0.141035\n",
       " 75%      41490.0    11.235967     11.684195     0.137910      0.155770\n",
       " max      41490.0    16.908470     19.990970     0.144100      0.162660,\n",
       "        productNo  tensionLeft  tensionRight  voltageLeft  voltageRight\n",
       " count     6171.0  6171.000000   6171.000000  6171.000000   6171.000000\n",
       " mean     41495.0     9.741724     10.395012     0.120278      0.135557\n",
       " std          0.0     2.097078      2.354344     0.019885      0.022942\n",
       " min      41495.0     5.260660      5.082060     0.077580      0.086620\n",
       " 25%      41495.0     8.130375      8.620500     0.110570      0.124380\n",
       " 50%      41495.0     9.936580     10.333690     0.125280      0.141230\n",
       " 75%      41495.0    11.168310     12.104680     0.137810      0.155630\n",
       " max      41495.0    16.243900     19.790030     0.144220      0.162860,\n",
       "        productNo  tensionLeft  tensionRight  voltageLeft  voltageRight\n",
       " count     6157.0  6157.000000   6157.000000  6157.000000   6157.000000\n",
       " mean     41503.0     9.889731     10.269982     0.120210      0.135501\n",
       " std          0.0     1.999641      2.290471     0.019863      0.022916\n",
       " min      41503.0     5.651660      4.908960     0.077650      0.086510\n",
       " 25%      41503.0     8.158700      8.586810     0.110310      0.124130\n",
       " 50%      41503.0     9.863220     10.212960     0.125250      0.141140\n",
       " 75%      41503.0    11.430770     11.661730     0.137800      0.155600\n",
       " max      41503.0    16.385140     19.764150     0.144530      0.162710,\n",
       "        productNo  tensionLeft  tensionRight  voltageLeft  voltageRight\n",
       " count     6280.0  6280.000000   6280.000000  6280.000000   6280.000000\n",
       " mean     41507.0     9.909862     10.367859     0.120571      0.135916\n",
       " std          0.0     2.023452      2.354639     0.019836      0.022882\n",
       " min      41507.0     5.589530      4.848540     0.077590      0.086610\n",
       " 25%      41507.0     8.234230      8.590930     0.110368      0.124160\n",
       " 50%      41507.0     9.989320     10.323620     0.126575      0.143900\n",
       " 75%      41507.0    11.394452     12.059605     0.138033      0.155780\n",
       " max      41507.0    16.603290     19.615710     0.144320      0.162820,\n",
       "        productNo  tensionLeft  tensionRight  voltageLeft  voltageRight\n",
       " count     6207.0  6207.000000   6207.000000  6207.000000   6207.000000\n",
       " mean     41508.0     9.875580     10.149720     0.120487      0.135761\n",
       " std          0.0     2.025392      2.366382     0.019788      0.022837\n",
       " min      41508.0     5.482830      5.050080     0.077680      0.086760\n",
       " 25%      41508.0     8.097840      8.554215     0.110560      0.124270\n",
       " 50%      41508.0     9.864190     10.086980     0.125460      0.142260\n",
       " 75%      41508.0    11.356610     11.458355     0.137880      0.155630\n",
       " max      41508.0    16.262090     19.525620     0.144580      0.162660,\n",
       "        productNo  tensionLeft  tensionRight  voltageLeft  voltageRight\n",
       " count     6126.0  6126.000000   6126.000000  6126.000000   6126.000000\n",
       " mean     41510.0     9.882581     10.195046     0.120184      0.135465\n",
       " std          0.0     2.039268      2.300150     0.019847      0.022902\n",
       " min      41510.0     5.417520      4.791890     0.077670      0.086570\n",
       " 25%      41510.0     8.142795      8.500930     0.110630      0.124420\n",
       " 50%      41510.0     9.925170     10.014585     0.125250      0.141125\n",
       " 75%      41510.0    11.353803     11.349865     0.137790      0.155630\n",
       " max      41510.0    16.845360     19.546860     0.144520      0.162680,\n",
       "        productNo  tensionLeft  tensionRight  voltageLeft  voltageRight\n",
       " count     6130.0  6130.000000   6130.000000  6130.000000   6130.000000\n",
       " mean     41521.0     9.707395     10.328496     0.120152      0.135397\n",
       " std          0.0     2.145073      2.470666     0.019861      0.022902\n",
       " min      41521.0     5.243450      5.102210     0.077680      0.086530\n",
       " 25%      41521.0     8.090393      8.554280     0.110450      0.124200\n",
       " 50%      41521.0     9.852415     10.322520     0.125250      0.141060\n",
       " 75%      41521.0    11.201175     12.206457     0.137810      0.155580\n",
       " max      41521.0    16.528340     19.692500     0.144300      0.162690,\n",
       "        productNo  tensionLeft  tensionRight  voltageLeft  voltageRight\n",
       " count     6137.0  6137.000000   6137.000000  6137.000000   6137.000000\n",
       " mean     41522.0     9.755646     10.337996     0.120103      0.135360\n",
       " std          0.0     2.152666      2.361093     0.019910      0.022963\n",
       " min      41522.0     5.207680      5.052280     0.077810      0.086840\n",
       " 25%      41522.0     8.086550      8.624650     0.110470      0.124310\n",
       " 50%      41522.0     9.880430     10.296820     0.125270      0.141060\n",
       " 75%      41522.0    11.299540     12.114750     0.137820      0.155500\n",
       " max      41522.0    16.329720     19.231790     0.144520      0.162890,\n",
       "        productNo  tensionLeft  tensionRight  voltageLeft  voltageRight\n",
       " count     6128.0  6128.000000   6128.000000  6128.000000   6128.000000\n",
       " mean     41526.0     9.856377     10.229422     0.120214      0.135446\n",
       " std          0.0     2.054983      2.356409     0.019845      0.022898\n",
       " min      41526.0     5.506150      5.037510     0.077940      0.086940\n",
       " 25%      41526.0     8.135230      8.517347     0.110620      0.124330\n",
       " 50%      41526.0     9.880000     10.125370     0.125270      0.141090\n",
       " 75%      41526.0    11.351940     11.654013     0.137830      0.155560\n",
       " max      41526.0    16.244640     19.604480     0.144410      0.162820,\n",
       "        productNo  tensionLeft  tensionRight  voltageLeft  voltageRight\n",
       " count     6154.0  6154.000000   6154.000000  6154.000000   6154.000000\n",
       " mean     41527.0     9.742680     10.091170     0.120124      0.135383\n",
       " std          0.0     2.154305      2.416708     0.019880      0.022944\n",
       " min      41527.0     5.174110      4.845610     0.077360      0.086760\n",
       " 25%      41527.0     8.083953      8.520582     0.110560      0.124340\n",
       " 50%      41527.0     9.882690     10.113530     0.125240      0.141070\n",
       " 75%      41527.0    11.250220     11.354168     0.137750      0.155570\n",
       " max      41527.0    16.484880     19.569080     0.144410      0.162910,\n",
       "        productNo  tensionLeft  tensionRight  voltageLeft  voltageRight\n",
       " count     6139.0  6139.000000   6139.000000  6139.000000   6139.000000\n",
       " mean     41530.0     9.899472     10.084499     0.120219      0.135478\n",
       " std          0.0     2.048071      2.487035     0.019890      0.022946\n",
       " min      41530.0     5.423260      4.973050     0.077860      0.087000\n",
       " 25%      41530.0     8.113710      8.387340     0.110520      0.124340\n",
       " 50%      41530.0     9.942080     10.190740     0.125270      0.141080\n",
       " 75%      41530.0    11.423930     11.554735     0.137960      0.155740\n",
       " max      41530.0    16.414440     19.616080     0.144510      0.162850,\n",
       "        productNo  tensionLeft  tensionRight  voltageLeft  voltageRight\n",
       " count     6139.0  6139.000000   6139.000000  6139.000000   6139.000000\n",
       " mean     41532.0     9.796593      9.990524     0.120278      0.135558\n",
       " std          0.0     2.148320      2.475849     0.019869      0.022923\n",
       " min      41532.0     5.482100      5.094880     0.077730      0.086850\n",
       " 25%      41532.0     8.111330      8.284370     0.110730      0.124530\n",
       " 50%      41532.0     9.953790      9.910950     0.125270      0.141120\n",
       " 75%      41532.0    11.379680     11.326580     0.137910      0.155740\n",
       " max      41532.0    16.591940     19.580430     0.144510      0.162930,\n",
       "        productNo  tensionLeft  tensionRight  voltageLeft  voltageRight\n",
       " count     6137.0  6137.000000    6137.00000  6137.000000   6137.000000\n",
       " mean     41534.0     9.775287      10.09250     0.120155      0.135423\n",
       " std          0.0     2.168595       2.42872     0.019898      0.022986\n",
       " min      41534.0     5.118930       4.86331     0.076740      0.086800\n",
       " 25%      41534.0     8.131840       8.51125     0.110530      0.124280\n",
       " 50%      41534.0     9.918390      10.23579     0.125250      0.141090\n",
       " 75%      41534.0    11.359600      11.28587     0.137840      0.155690\n",
       " max      41534.0    16.483900      19.59154     0.144540      0.163010]"
      ]
     },
     "execution_count": 66,
     "metadata": {},
     "output_type": "execute_result"
    }
   ],
   "source": [
    "li"
   ]
  },
  {
   "cell_type": "code",
   "execution_count": 101,
   "metadata": {},
   "outputs": [
    {
     "data": {
      "text/html": [
       "<div>\n",
       "<style scoped>\n",
       "    .dataframe tbody tr th:only-of-type {\n",
       "        vertical-align: middle;\n",
       "    }\n",
       "\n",
       "    .dataframe tbody tr th {\n",
       "        vertical-align: top;\n",
       "    }\n",
       "\n",
       "    .dataframe thead th {\n",
       "        text-align: right;\n",
       "    }\n",
       "</style>\n",
       "<table border=\"1\" class=\"dataframe\">\n",
       "  <thead>\n",
       "    <tr style=\"text-align: right;\">\n",
       "      <th></th>\n",
       "      <th>productNo</th>\n",
       "      <th>tensionLeft</th>\n",
       "      <th>tensionRight</th>\n",
       "      <th>voltageLeft</th>\n",
       "      <th>voltageRight</th>\n",
       "    </tr>\n",
       "  </thead>\n",
       "  <tbody>\n",
       "    <tr>\n",
       "      <th>max</th>\n",
       "      <td>41470.0</td>\n",
       "      <td>16.87954</td>\n",
       "      <td>19.99573</td>\n",
       "      <td>0.14448</td>\n",
       "      <td>0.16265</td>\n",
       "    </tr>\n",
       "    <tr>\n",
       "      <th>max</th>\n",
       "      <td>41478.0</td>\n",
       "      <td>16.93008</td>\n",
       "      <td>19.62120</td>\n",
       "      <td>0.14449</td>\n",
       "      <td>0.16270</td>\n",
       "    </tr>\n",
       "    <tr>\n",
       "      <th>max</th>\n",
       "      <td>41483.0</td>\n",
       "      <td>16.37355</td>\n",
       "      <td>20.00000</td>\n",
       "      <td>0.14445</td>\n",
       "      <td>0.16272</td>\n",
       "    </tr>\n",
       "    <tr>\n",
       "      <th>max</th>\n",
       "      <td>41488.0</td>\n",
       "      <td>17.02188</td>\n",
       "      <td>20.00000</td>\n",
       "      <td>0.14433</td>\n",
       "      <td>0.16270</td>\n",
       "    </tr>\n",
       "    <tr>\n",
       "      <th>max</th>\n",
       "      <td>41489.0</td>\n",
       "      <td>16.94961</td>\n",
       "      <td>19.58544</td>\n",
       "      <td>0.14430</td>\n",
       "      <td>0.16262</td>\n",
       "    </tr>\n",
       "    <tr>\n",
       "      <th>max</th>\n",
       "      <td>41490.0</td>\n",
       "      <td>16.90847</td>\n",
       "      <td>19.99097</td>\n",
       "      <td>0.14410</td>\n",
       "      <td>0.16266</td>\n",
       "    </tr>\n",
       "    <tr>\n",
       "      <th>max</th>\n",
       "      <td>41495.0</td>\n",
       "      <td>16.24390</td>\n",
       "      <td>19.79003</td>\n",
       "      <td>0.14422</td>\n",
       "      <td>0.16286</td>\n",
       "    </tr>\n",
       "    <tr>\n",
       "      <th>max</th>\n",
       "      <td>41503.0</td>\n",
       "      <td>16.38514</td>\n",
       "      <td>19.76415</td>\n",
       "      <td>0.14453</td>\n",
       "      <td>0.16271</td>\n",
       "    </tr>\n",
       "    <tr>\n",
       "      <th>max</th>\n",
       "      <td>41507.0</td>\n",
       "      <td>16.60329</td>\n",
       "      <td>19.61571</td>\n",
       "      <td>0.14432</td>\n",
       "      <td>0.16282</td>\n",
       "    </tr>\n",
       "    <tr>\n",
       "      <th>max</th>\n",
       "      <td>41508.0</td>\n",
       "      <td>16.26209</td>\n",
       "      <td>19.52562</td>\n",
       "      <td>0.14458</td>\n",
       "      <td>0.16266</td>\n",
       "    </tr>\n",
       "    <tr>\n",
       "      <th>max</th>\n",
       "      <td>41510.0</td>\n",
       "      <td>16.84536</td>\n",
       "      <td>19.54686</td>\n",
       "      <td>0.14452</td>\n",
       "      <td>0.16268</td>\n",
       "    </tr>\n",
       "    <tr>\n",
       "      <th>max</th>\n",
       "      <td>41521.0</td>\n",
       "      <td>16.52834</td>\n",
       "      <td>19.69250</td>\n",
       "      <td>0.14430</td>\n",
       "      <td>0.16269</td>\n",
       "    </tr>\n",
       "    <tr>\n",
       "      <th>max</th>\n",
       "      <td>41522.0</td>\n",
       "      <td>16.32972</td>\n",
       "      <td>19.23179</td>\n",
       "      <td>0.14452</td>\n",
       "      <td>0.16289</td>\n",
       "    </tr>\n",
       "    <tr>\n",
       "      <th>max</th>\n",
       "      <td>41526.0</td>\n",
       "      <td>16.24464</td>\n",
       "      <td>19.60448</td>\n",
       "      <td>0.14441</td>\n",
       "      <td>0.16282</td>\n",
       "    </tr>\n",
       "    <tr>\n",
       "      <th>max</th>\n",
       "      <td>41527.0</td>\n",
       "      <td>16.48488</td>\n",
       "      <td>19.56908</td>\n",
       "      <td>0.14441</td>\n",
       "      <td>0.16291</td>\n",
       "    </tr>\n",
       "    <tr>\n",
       "      <th>max</th>\n",
       "      <td>41530.0</td>\n",
       "      <td>16.41444</td>\n",
       "      <td>19.61608</td>\n",
       "      <td>0.14451</td>\n",
       "      <td>0.16285</td>\n",
       "    </tr>\n",
       "    <tr>\n",
       "      <th>max</th>\n",
       "      <td>41532.0</td>\n",
       "      <td>16.59194</td>\n",
       "      <td>19.58043</td>\n",
       "      <td>0.14451</td>\n",
       "      <td>0.16293</td>\n",
       "    </tr>\n",
       "    <tr>\n",
       "      <th>max</th>\n",
       "      <td>41534.0</td>\n",
       "      <td>16.48390</td>\n",
       "      <td>19.59154</td>\n",
       "      <td>0.14454</td>\n",
       "      <td>0.16301</td>\n",
       "    </tr>\n",
       "  </tbody>\n",
       "</table>\n",
       "</div>"
      ],
      "text/plain": [
       "     productNo  tensionLeft  tensionRight  voltageLeft  voltageRight\n",
       "max    41470.0     16.87954      19.99573      0.14448       0.16265\n",
       "max    41478.0     16.93008      19.62120      0.14449       0.16270\n",
       "max    41483.0     16.37355      20.00000      0.14445       0.16272\n",
       "max    41488.0     17.02188      20.00000      0.14433       0.16270\n",
       "max    41489.0     16.94961      19.58544      0.14430       0.16262\n",
       "max    41490.0     16.90847      19.99097      0.14410       0.16266\n",
       "max    41495.0     16.24390      19.79003      0.14422       0.16286\n",
       "max    41503.0     16.38514      19.76415      0.14453       0.16271\n",
       "max    41507.0     16.60329      19.61571      0.14432       0.16282\n",
       "max    41508.0     16.26209      19.52562      0.14458       0.16266\n",
       "max    41510.0     16.84536      19.54686      0.14452       0.16268\n",
       "max    41521.0     16.52834      19.69250      0.14430       0.16269\n",
       "max    41522.0     16.32972      19.23179      0.14452       0.16289\n",
       "max    41526.0     16.24464      19.60448      0.14441       0.16282\n",
       "max    41527.0     16.48488      19.56908      0.14441       0.16291\n",
       "max    41530.0     16.41444      19.61608      0.14451       0.16285\n",
       "max    41532.0     16.59194      19.58043      0.14451       0.16293\n",
       "max    41534.0     16.48390      19.59154      0.14454       0.16301"
      ]
     },
     "execution_count": 101,
     "metadata": {},
     "output_type": "execute_result"
    }
   ],
   "source": [
    "dfmax=statframetotal.loc['max'] "
   ]
  },
  {
   "cell_type": "code",
   "execution_count": 105,
   "metadata": {},
   "outputs": [],
   "source": [
    "dfmin=statframetotal.loc['min'].reset_index()"
   ]
  },
  {
   "cell_type": "code",
   "execution_count": 106,
   "metadata": {},
   "outputs": [],
   "source": [
    "dfmax=statframetotal.loc['max'].reset_index()"
   ]
  },
  {
   "cell_type": "code",
   "execution_count": 113,
   "metadata": {},
   "outputs": [],
   "source": [
    "dfmean=statframetotal.loc['mean'].reset_index()"
   ]
  },
  {
   "cell_type": "code",
   "execution_count": 112,
   "metadata": {},
   "outputs": [
    {
     "data": {
      "text/html": [
       "<div>\n",
       "<style scoped>\n",
       "    .dataframe tbody tr th:only-of-type {\n",
       "        vertical-align: middle;\n",
       "    }\n",
       "\n",
       "    .dataframe tbody tr th {\n",
       "        vertical-align: top;\n",
       "    }\n",
       "\n",
       "    .dataframe thead th {\n",
       "        text-align: right;\n",
       "    }\n",
       "</style>\n",
       "<table border=\"1\" class=\"dataframe\">\n",
       "  <thead>\n",
       "    <tr style=\"text-align: right;\">\n",
       "      <th></th>\n",
       "      <th>tensionLeft</th>\n",
       "      <th>tensionRight</th>\n",
       "      <th>voltageLeft</th>\n",
       "      <th>voltageRight</th>\n",
       "    </tr>\n",
       "  </thead>\n",
       "  <tbody>\n",
       "    <tr>\n",
       "      <th>0</th>\n",
       "      <td>11.80407</td>\n",
       "      <td>15.35985</td>\n",
       "      <td>0.06698</td>\n",
       "      <td>0.07586</td>\n",
       "    </tr>\n",
       "    <tr>\n",
       "      <th>1</th>\n",
       "      <td>11.31443</td>\n",
       "      <td>15.25986</td>\n",
       "      <td>0.06675</td>\n",
       "      <td>0.07613</td>\n",
       "    </tr>\n",
       "    <tr>\n",
       "      <th>2</th>\n",
       "      <td>10.77011</td>\n",
       "      <td>15.57189</td>\n",
       "      <td>0.06665</td>\n",
       "      <td>0.07591</td>\n",
       "    </tr>\n",
       "    <tr>\n",
       "      <th>3</th>\n",
       "      <td>11.53197</td>\n",
       "      <td>14.94894</td>\n",
       "      <td>0.06678</td>\n",
       "      <td>0.07652</td>\n",
       "    </tr>\n",
       "    <tr>\n",
       "      <th>4</th>\n",
       "      <td>11.56871</td>\n",
       "      <td>14.67745</td>\n",
       "      <td>0.06671</td>\n",
       "      <td>0.07570</td>\n",
       "    </tr>\n",
       "    <tr>\n",
       "      <th>5</th>\n",
       "      <td>11.55491</td>\n",
       "      <td>15.51244</td>\n",
       "      <td>0.06625</td>\n",
       "      <td>0.07574</td>\n",
       "    </tr>\n",
       "    <tr>\n",
       "      <th>6</th>\n",
       "      <td>10.98324</td>\n",
       "      <td>14.70797</td>\n",
       "      <td>0.06664</td>\n",
       "      <td>0.07624</td>\n",
       "    </tr>\n",
       "    <tr>\n",
       "      <th>7</th>\n",
       "      <td>10.73348</td>\n",
       "      <td>14.85519</td>\n",
       "      <td>0.06688</td>\n",
       "      <td>0.07620</td>\n",
       "    </tr>\n",
       "    <tr>\n",
       "      <th>8</th>\n",
       "      <td>11.01376</td>\n",
       "      <td>14.76717</td>\n",
       "      <td>0.06673</td>\n",
       "      <td>0.07621</td>\n",
       "    </tr>\n",
       "    <tr>\n",
       "      <th>9</th>\n",
       "      <td>10.77926</td>\n",
       "      <td>14.47554</td>\n",
       "      <td>0.06690</td>\n",
       "      <td>0.07590</td>\n",
       "    </tr>\n",
       "    <tr>\n",
       "      <th>10</th>\n",
       "      <td>11.42784</td>\n",
       "      <td>14.75497</td>\n",
       "      <td>0.06685</td>\n",
       "      <td>0.07611</td>\n",
       "    </tr>\n",
       "    <tr>\n",
       "      <th>11</th>\n",
       "      <td>11.28489</td>\n",
       "      <td>14.59029</td>\n",
       "      <td>0.06662</td>\n",
       "      <td>0.07616</td>\n",
       "    </tr>\n",
       "    <tr>\n",
       "      <th>12</th>\n",
       "      <td>11.12204</td>\n",
       "      <td>14.17951</td>\n",
       "      <td>0.06671</td>\n",
       "      <td>0.07605</td>\n",
       "    </tr>\n",
       "    <tr>\n",
       "      <th>13</th>\n",
       "      <td>10.73849</td>\n",
       "      <td>14.56697</td>\n",
       "      <td>0.06647</td>\n",
       "      <td>0.07588</td>\n",
       "    </tr>\n",
       "    <tr>\n",
       "      <th>14</th>\n",
       "      <td>11.31077</td>\n",
       "      <td>14.72347</td>\n",
       "      <td>0.06705</td>\n",
       "      <td>0.07615</td>\n",
       "    </tr>\n",
       "    <tr>\n",
       "      <th>15</th>\n",
       "      <td>10.99118</td>\n",
       "      <td>14.64303</td>\n",
       "      <td>0.06665</td>\n",
       "      <td>0.07585</td>\n",
       "    </tr>\n",
       "    <tr>\n",
       "      <th>16</th>\n",
       "      <td>11.10984</td>\n",
       "      <td>14.48555</td>\n",
       "      <td>0.06678</td>\n",
       "      <td>0.07608</td>\n",
       "    </tr>\n",
       "    <tr>\n",
       "      <th>17</th>\n",
       "      <td>11.36497</td>\n",
       "      <td>14.72823</td>\n",
       "      <td>0.06780</td>\n",
       "      <td>0.07621</td>\n",
       "    </tr>\n",
       "  </tbody>\n",
       "</table>\n",
       "</div>"
      ],
      "text/plain": [
       "    tensionLeft  tensionRight  voltageLeft  voltageRight\n",
       "0      11.80407      15.35985      0.06698       0.07586\n",
       "1      11.31443      15.25986      0.06675       0.07613\n",
       "2      10.77011      15.57189      0.06665       0.07591\n",
       "3      11.53197      14.94894      0.06678       0.07652\n",
       "4      11.56871      14.67745      0.06671       0.07570\n",
       "5      11.55491      15.51244      0.06625       0.07574\n",
       "6      10.98324      14.70797      0.06664       0.07624\n",
       "7      10.73348      14.85519      0.06688       0.07620\n",
       "8      11.01376      14.76717      0.06673       0.07621\n",
       "9      10.77926      14.47554      0.06690       0.07590\n",
       "10     11.42784      14.75497      0.06685       0.07611\n",
       "11     11.28489      14.59029      0.06662       0.07616\n",
       "12     11.12204      14.17951      0.06671       0.07605\n",
       "13     10.73849      14.56697      0.06647       0.07588\n",
       "14     11.31077      14.72347      0.06705       0.07615\n",
       "15     10.99118      14.64303      0.06665       0.07585\n",
       "16     11.10984      14.48555      0.06678       0.07608\n",
       "17     11.36497      14.72823      0.06780       0.07621"
      ]
     },
     "execution_count": 112,
     "metadata": {},
     "output_type": "execute_result"
    }
   ],
   "source": [
    "dfmax.iloc[:,2:6]-dfmin.iloc[:,2:6]"
   ]
  },
  {
   "cell_type": "code",
   "execution_count": 15,
   "metadata": {},
   "outputs": [],
   "source": [
    "import numpy as np\n",
    "import pandas as pd\n",
    "import matplotlib.pyplot as plt\n",
    "import seaborn as sns\n",
    "i=1\n",
    "productid=my_tab2.index[i]\n",
    "subframe=frame[frame['productNo']==productid]\n",
    "subframe.drop(['Unnamed: 0','signal','productNo'],axis=1,inplace=True)\n",
    "corr=subframe.corr()\n"
   ]
  },
  {
   "cell_type": "code",
   "execution_count": 20,
   "metadata": {},
   "outputs": [
    {
     "data": {
      "text/html": [
       "<div>\n",
       "<style scoped>\n",
       "    .dataframe tbody tr th:only-of-type {\n",
       "        vertical-align: middle;\n",
       "    }\n",
       "\n",
       "    .dataframe tbody tr th {\n",
       "        vertical-align: top;\n",
       "    }\n",
       "\n",
       "    .dataframe thead th {\n",
       "        text-align: right;\n",
       "    }\n",
       "</style>\n",
       "<table border=\"1\" class=\"dataframe\">\n",
       "  <thead>\n",
       "    <tr style=\"text-align: right;\">\n",
       "      <th></th>\n",
       "      <th>tensionLeft</th>\n",
       "      <th>tensionRight</th>\n",
       "      <th>voltageLeft</th>\n",
       "      <th>voltageRight</th>\n",
       "    </tr>\n",
       "  </thead>\n",
       "  <tbody>\n",
       "    <tr>\n",
       "      <th>tensionLeft</th>\n",
       "      <td>1.000000</td>\n",
       "      <td>0.928475</td>\n",
       "      <td>0.754472</td>\n",
       "      <td>0.753620</td>\n",
       "    </tr>\n",
       "    <tr>\n",
       "      <th>tensionRight</th>\n",
       "      <td>0.928475</td>\n",
       "      <td>1.000000</td>\n",
       "      <td>0.684900</td>\n",
       "      <td>0.683840</td>\n",
       "    </tr>\n",
       "    <tr>\n",
       "      <th>voltageLeft</th>\n",
       "      <td>0.754472</td>\n",
       "      <td>0.684900</td>\n",
       "      <td>1.000000</td>\n",
       "      <td>0.999614</td>\n",
       "    </tr>\n",
       "    <tr>\n",
       "      <th>voltageRight</th>\n",
       "      <td>0.753620</td>\n",
       "      <td>0.683840</td>\n",
       "      <td>0.999614</td>\n",
       "      <td>1.000000</td>\n",
       "    </tr>\n",
       "  </tbody>\n",
       "</table>\n",
       "</div>"
      ],
      "text/plain": [
       "              tensionLeft  tensionRight  voltageLeft  voltageRight\n",
       "tensionLeft      1.000000      0.928475     0.754472      0.753620\n",
       "tensionRight     0.928475      1.000000     0.684900      0.683840\n",
       "voltageLeft      0.754472      0.684900     1.000000      0.999614\n",
       "voltageRight     0.753620      0.683840     0.999614      1.000000"
      ]
     },
     "execution_count": 20,
     "metadata": {},
     "output_type": "execute_result"
    }
   ],
   "source": [
    "corr"
   ]
  },
  {
   "cell_type": "code",
   "execution_count": 22,
   "metadata": {},
   "outputs": [
    {
     "data": {
      "text/plain": [
       "<matplotlib.axes._subplots.AxesSubplot at 0x23ac54fa6c8>"
      ]
     },
     "execution_count": 22,
     "metadata": {},
     "output_type": "execute_result"
    },
    {
     "data": {
      "image/png": "[encoded data removed]",
      "text/plain": [
       "<Figure size 792x648 with 2 Axes>"
      ]
     },
     "metadata": {},
     "output_type": "display_data"
    }
   ],
   "source": [
    "sns.set(style=\"white\")\n",
    "# Generate a mask for the upper triangle\n",
    "mask = np.triu(np.ones_like(corr, dtype=np.bool))\n",
    "# Set up the matplotlib figure\n",
    "f, ax = plt.subplots(figsize=(11, 9))\n",
    "\n",
    "# Generate a custom diverging colormap\n",
    "cmap = sns.diverging_palette(220, 10, as_cmap=True)\n",
    "\n",
    "# Draw the heatmap with the mask and correct aspect ratio\n",
    "sns.heatmap(corr, mask=mask, cmap=cmap, vmax=1, center=0.85,\n",
    "            square=True, linewidths=.5, cbar_kws={\"shrink\": .5},annot= True)"
   ]
  },
  {
   "cell_type": "code",
   "execution_count": 37,
   "metadata": {},
   "outputs": [],
   "source": [
    "for i in range(18):\n",
    "    productid=my_tab2.index[i]\n",
    "    subframe=frame[frame['productNo']==productid]\n",
    "    subframe.drop(['Unnamed: 0','signal','productNo'],axis=1,inplace=True)\n",
    "    corr=subframe.corr()\n",
    "    sns.set(style=\"white\")\n",
    "    # Generate a mask for the upper triangle\n",
    "    mask = np.triu(np.ones_like(corr, dtype=np.bool))\n",
    "    # Set up the matplotlib figure\n",
    "    f, ax = plt.subplots(figsize=(11, 9))\n",
    "    f.suptitle('Correlation coefficient of product ID '+str(productid))\n",
    "    # Generate a custom diverging colormap\n",
    "    cmap = sns.diverging_palette(220, 10, as_cmap=True)\n",
    "\n",
    "    # Draw the heatmap with the mask and correct aspect ratio\n",
    "    sns.heatmap(corr, mask=mask, cmap=cmap, vmax=1, center=0.85,\n",
    "                square=True, linewidths=.5, cbar_kws={\"shrink\": .5},annot= True)\n",
    "    #plt.xlabel('Time(ms)')\n",
    "    #plt.ylabel('EMG voltage(microV)')\n",
    "    plt.savefig('Correlation {0}.jpg'.format(productid))\n",
    "    plt.close()"
   ]
  },
  {
   "cell_type": "code",
   "execution_count": 28,
   "metadata": {},
   "outputs": [
    {
     "data": {
      "text/plain": [
       "<seaborn.axisgrid.PairGrid at 0x23ac73f0088>"
      ]
     },
     "execution_count": 28,
     "metadata": {},
     "output_type": "execute_result"
    },
    {
     "data": {
      "image/png": "[encoded data removed]",
      "text/plain": [
       "<Figure size 720x720 with 20 Axes>"
      ]
     },
     "metadata": {},
     "output_type": "display_data"
    }
   ],
   "source": [
    "i=2\n",
    "productid=my_tab2.index[i]\n",
    "subframe=frame[frame['productNo']==productid]\n",
    "subframe.drop(['Unnamed: 0','signal','productNo'],axis=1,inplace=True)\n",
    "g = sns.PairGrid(subframe)\n",
    "g.map_diag(sns.distplot,norm_hist=False)\n",
    "g.map_upper(plt.scatter)\n",
    "g.map_lower(sns.kdeplot)"
   ]
  },
  {
   "cell_type": "code",
   "execution_count": 26,
   "metadata": {},
   "outputs": [
    {
     "data": {
      "text/plain": [
       "<matplotlib.axes._subplots.AxesSubplot at 0x23ac7146e48>"
      ]
     },
     "execution_count": 26,
     "metadata": {},
     "output_type": "execute_result"
    },
    {
     "data": {
      "image/png": "[encoded data removed]",
      "text/plain": [
       "<Figure size 432x288 with 1 Axes>"
      ]
     },
     "metadata": {},
     "output_type": "display_data"
    }
   ],
   "source": [
    "sns.distplot(subframe['tensionRight'])"
   ]
  },
  {
   "cell_type": "code",
   "execution_count": 41,
   "metadata": {},
   "outputs": [],
   "source": [
    "for i in range(18):\n",
    "    productid=my_tab2.index[i]\n",
    "    subframe=frame[frame['productNo']==productid]\n",
    "    subframe.drop(['Unnamed: 0','signal','productNo'],axis=1,inplace=True)\n",
    "    #f, ax = plt.subplots(figsize=(11, 9))\n",
    "    #f.suptitle('Scatterplot of product ID '+str(productid))\n",
    "    g = sns.PairGrid(subframe)\n",
    "    g.map_diag(plt.hist, edgecolor=\"w\")\n",
    "    g.map_upper(plt.scatter)\n",
    "    g.map_lower(sns.kdeplot)\n",
    "    #g.title('Scatterplot of product ID '+str(productid))\n",
    "    #plt.xlabel('Time(ms)')\n",
    "    #plt.ylabel('EMG voltage(microV)')\n",
    "    g.fig.suptitle('Scatterplot of product ID '+str(productid))\n",
    "    plt.savefig('Scatterplot {0}.jpg'.format(productid))\n",
    "    plt.close()"
   ]
  },
  {
   "cell_type": "code",
   "execution_count": 50,
   "metadata": {},
   "outputs": [
    {
     "name": "stdout",
     "output_type": "stream",
     "text": [
      "intercept: -0.0030667712994549012\n",
      "slope: [1.15223225]\n",
      "coefficient of determination: 0.9992315511096315\n"
     ]
    },
    {
     "name": "stderr",
     "output_type": "stream",
     "text": [
      "C:\\Program Files\\Anaconda3\\lib\\site-packages\\pandas\\core\\frame.py:3940: SettingWithCopyWarning: \n",
      "A value is trying to be set on a copy of a slice from a DataFrame\n",
      "\n",
      "See the caveats in the documentation: http://pandas.pydata.org/pandas-docs/stable/indexing.html#indexing-view-versus-copy\n",
      "  errors=errors)\n"
     ]
    }
   ],
   "source": [
    "from sklearn.model_selection import train_test_split \n",
    "from sklearn.linear_model import LinearRegression\n",
    "from sklearn import metrics\n",
    "%matplotlib inline\n",
    "i=2\n",
    "productid=my_tab2.index[i]\n",
    "subframe=frame[frame['productNo']==productid]\n",
    "subframe.drop(['Unnamed: 0','signal','productNo'],axis=1,inplace=True)\n",
    "X = subframe['voltageLeft'].values.reshape((-1, 1))\n",
    "y = subframe['voltageRight'].values\n",
    "X_train, X_test, y_train, y_test = train_test_split(X, y, test_size=0.2, random_state=0)\n",
    "regressor = LinearRegression()  \n",
    "regressor.fit(X_train, y_train)\n",
    "#coeff_df = pd.DataFrame(regressor.coef_, X.columns, columns=['Coefficient'])  \n",
    "#coeff_df\n",
    "print('intercept:', regressor.intercept_)\n",
    "print('slope:', regressor.coef_)\n",
    "\n",
    "#r_sq = regressor.score(X_train, y_train)\n",
    "#print('coefficient of determination:', r_sq)"
   ]
  },
  {
   "cell_type": "code",
   "execution_count": 51,
   "metadata": {},
   "outputs": [],
   "source": [
    "# Define a dictionary containing employee data\n",
    "data = {'Intercept':regressor.intercept_,\n",
    "        'Slope':regressor.coef_}\n",
    " \n",
    "# Convert the dictionary into DataFrame \n",
    "df = pd.DataFrame(data)"
   ]
  },
  {
   "cell_type": "code",
   "execution_count": 52,
   "metadata": {},
   "outputs": [
    {
     "data": {
      "text/html": [
       "<div>\n",
       "<style scoped>\n",
       "    .dataframe tbody tr th:only-of-type {\n",
       "        vertical-align: middle;\n",
       "    }\n",
       "\n",
       "    .dataframe tbody tr th {\n",
       "        vertical-align: top;\n",
       "    }\n",
       "\n",
       "    .dataframe thead th {\n",
       "        text-align: right;\n",
       "    }\n",
       "</style>\n",
       "<table border=\"1\" class=\"dataframe\">\n",
       "  <thead>\n",
       "    <tr style=\"text-align: right;\">\n",
       "      <th></th>\n",
       "      <th>Intercept</th>\n",
       "      <th>Slope</th>\n",
       "    </tr>\n",
       "  </thead>\n",
       "  <tbody>\n",
       "    <tr>\n",
       "      <th>0</th>\n",
       "      <td>-0.003067</td>\n",
       "      <td>1.152232</td>\n",
       "    </tr>\n",
       "  </tbody>\n",
       "</table>\n",
       "</div>"
      ],
      "text/plain": [
       "   Intercept     Slope\n",
       "0  -0.003067  1.152232"
      ]
     },
     "execution_count": 52,
     "metadata": {},
     "output_type": "execute_result"
    }
   ],
   "source": [
    "df"
   ]
  },
  {
   "cell_type": "code",
   "execution_count": 78,
   "metadata": {},
   "outputs": [
    {
     "name": "stderr",
     "output_type": "stream",
     "text": [
      "C:\\Program Files\\Anaconda3\\lib\\site-packages\\pandas\\core\\frame.py:3940: SettingWithCopyWarning: \n",
      "A value is trying to be set on a copy of a slice from a DataFrame\n",
      "\n",
      "See the caveats in the documentation: http://pandas.pydata.org/pandas-docs/stable/indexing.html#indexing-view-versus-copy\n",
      "  errors=errors)\n",
      "C:\\Program Files\\Anaconda3\\lib\\site-packages\\pandas\\core\\frame.py:3940: SettingWithCopyWarning: \n",
      "A value is trying to be set on a copy of a slice from a DataFrame\n",
      "\n",
      "See the caveats in the documentation: http://pandas.pydata.org/pandas-docs/stable/indexing.html#indexing-view-versus-copy\n",
      "  errors=errors)\n",
      "C:\\Program Files\\Anaconda3\\lib\\site-packages\\pandas\\core\\frame.py:3940: SettingWithCopyWarning: \n",
      "A value is trying to be set on a copy of a slice from a DataFrame\n",
      "\n",
      "See the caveats in the documentation: http://pandas.pydata.org/pandas-docs/stable/indexing.html#indexing-view-versus-copy\n",
      "  errors=errors)\n",
      "C:\\Program Files\\Anaconda3\\lib\\site-packages\\pandas\\core\\frame.py:3940: SettingWithCopyWarning: \n",
      "A value is trying to be set on a copy of a slice from a DataFrame\n",
      "\n",
      "See the caveats in the documentation: http://pandas.pydata.org/pandas-docs/stable/indexing.html#indexing-view-versus-copy\n",
      "  errors=errors)\n",
      "C:\\Program Files\\Anaconda3\\lib\\site-packages\\pandas\\core\\frame.py:3940: SettingWithCopyWarning: \n",
      "A value is trying to be set on a copy of a slice from a DataFrame\n",
      "\n",
      "See the caveats in the documentation: http://pandas.pydata.org/pandas-docs/stable/indexing.html#indexing-view-versus-copy\n",
      "  errors=errors)\n",
      "C:\\Program Files\\Anaconda3\\lib\\site-packages\\pandas\\core\\frame.py:3940: SettingWithCopyWarning: \n",
      "A value is trying to be set on a copy of a slice from a DataFrame\n",
      "\n",
      "See the caveats in the documentation: http://pandas.pydata.org/pandas-docs/stable/indexing.html#indexing-view-versus-copy\n",
      "  errors=errors)\n",
      "C:\\Program Files\\Anaconda3\\lib\\site-packages\\pandas\\core\\frame.py:3940: SettingWithCopyWarning: \n",
      "A value is trying to be set on a copy of a slice from a DataFrame\n",
      "\n",
      "See the caveats in the documentation: http://pandas.pydata.org/pandas-docs/stable/indexing.html#indexing-view-versus-copy\n",
      "  errors=errors)\n",
      "C:\\Program Files\\Anaconda3\\lib\\site-packages\\pandas\\core\\frame.py:3940: SettingWithCopyWarning: \n",
      "A value is trying to be set on a copy of a slice from a DataFrame\n",
      "\n",
      "See the caveats in the documentation: http://pandas.pydata.org/pandas-docs/stable/indexing.html#indexing-view-versus-copy\n",
      "  errors=errors)\n",
      "C:\\Program Files\\Anaconda3\\lib\\site-packages\\pandas\\core\\frame.py:3940: SettingWithCopyWarning: \n",
      "A value is trying to be set on a copy of a slice from a DataFrame\n",
      "\n",
      "See the caveats in the documentation: http://pandas.pydata.org/pandas-docs/stable/indexing.html#indexing-view-versus-copy\n",
      "  errors=errors)\n",
      "C:\\Program Files\\Anaconda3\\lib\\site-packages\\pandas\\core\\frame.py:3940: SettingWithCopyWarning: \n",
      "A value is trying to be set on a copy of a slice from a DataFrame\n",
      "\n",
      "See the caveats in the documentation: http://pandas.pydata.org/pandas-docs/stable/indexing.html#indexing-view-versus-copy\n",
      "  errors=errors)\n",
      "C:\\Program Files\\Anaconda3\\lib\\site-packages\\pandas\\core\\frame.py:3940: SettingWithCopyWarning: \n",
      "A value is trying to be set on a copy of a slice from a DataFrame\n",
      "\n",
      "See the caveats in the documentation: http://pandas.pydata.org/pandas-docs/stable/indexing.html#indexing-view-versus-copy\n",
      "  errors=errors)\n",
      "C:\\Program Files\\Anaconda3\\lib\\site-packages\\pandas\\core\\frame.py:3940: SettingWithCopyWarning: \n",
      "A value is trying to be set on a copy of a slice from a DataFrame\n",
      "\n",
      "See the caveats in the documentation: http://pandas.pydata.org/pandas-docs/stable/indexing.html#indexing-view-versus-copy\n",
      "  errors=errors)\n",
      "C:\\Program Files\\Anaconda3\\lib\\site-packages\\pandas\\core\\frame.py:3940: SettingWithCopyWarning: \n",
      "A value is trying to be set on a copy of a slice from a DataFrame\n",
      "\n",
      "See the caveats in the documentation: http://pandas.pydata.org/pandas-docs/stable/indexing.html#indexing-view-versus-copy\n",
      "  errors=errors)\n",
      "C:\\Program Files\\Anaconda3\\lib\\site-packages\\pandas\\core\\frame.py:3940: SettingWithCopyWarning: \n",
      "A value is trying to be set on a copy of a slice from a DataFrame\n",
      "\n",
      "See the caveats in the documentation: http://pandas.pydata.org/pandas-docs/stable/indexing.html#indexing-view-versus-copy\n",
      "  errors=errors)\n",
      "C:\\Program Files\\Anaconda3\\lib\\site-packages\\pandas\\core\\frame.py:3940: SettingWithCopyWarning: \n",
      "A value is trying to be set on a copy of a slice from a DataFrame\n",
      "\n",
      "See the caveats in the documentation: http://pandas.pydata.org/pandas-docs/stable/indexing.html#indexing-view-versus-copy\n",
      "  errors=errors)\n",
      "C:\\Program Files\\Anaconda3\\lib\\site-packages\\pandas\\core\\frame.py:3940: SettingWithCopyWarning: \n",
      "A value is trying to be set on a copy of a slice from a DataFrame\n",
      "\n",
      "See the caveats in the documentation: http://pandas.pydata.org/pandas-docs/stable/indexing.html#indexing-view-versus-copy\n",
      "  errors=errors)\n",
      "C:\\Program Files\\Anaconda3\\lib\\site-packages\\pandas\\core\\frame.py:3940: SettingWithCopyWarning: \n",
      "A value is trying to be set on a copy of a slice from a DataFrame\n",
      "\n",
      "See the caveats in the documentation: http://pandas.pydata.org/pandas-docs/stable/indexing.html#indexing-view-versus-copy\n",
      "  errors=errors)\n",
      "C:\\Program Files\\Anaconda3\\lib\\site-packages\\pandas\\core\\frame.py:3940: SettingWithCopyWarning: \n",
      "A value is trying to be set on a copy of a slice from a DataFrame\n",
      "\n",
      "See the caveats in the documentation: http://pandas.pydata.org/pandas-docs/stable/indexing.html#indexing-view-versus-copy\n",
      "  errors=errors)\n"
     ]
    }
   ],
   "source": [
    "dfreg =  pd.DataFrame(columns=['Intercept', 'Slope'])\n",
    "for i in range(18):\n",
    "    productid=my_tab2.index[i]\n",
    "    subframe=frame[frame['productNo']==productid]\n",
    "    subframe.drop(['Unnamed: 0','signal','productNo'],axis=1,inplace=True)\n",
    "    X = subframe['voltageLeft'].values.reshape((-1, 1))\n",
    "    y = subframe['voltageRight'].values\n",
    "    X_train, X_test, y_train, y_test = train_test_split(X, y, test_size=0.2, random_state=0)\n",
    "    regressor = LinearRegression()  \n",
    "    regressor.fit(X_train, y_train)\n",
    "    #coeff_df = pd.DataFrame(regressor.coef_, X.columns, columns=['Coefficient'])  \n",
    "    #coeff_df\n",
    "    #print('intercept:', regressor.intercept_)\n",
    "    #print('slope:', regressor.coef_)\n",
    "    \n",
    "    # Convert the dictionary into DataFrame \n",
    "    #df = pd.DataFrame(data)\n",
    "   # li.append(df)\n",
    "    #regtotal = pd.concat(df, axis=0, ignore_index=False)\n",
    "    dfreg.loc[i]=[regressor.intercept_,regressor.coef_[0]]"
   ]
  },
  {
   "cell_type": "code",
   "execution_count": 79,
   "metadata": {},
   "outputs": [
    {
     "data": {
      "text/html": [
       "<div>\n",
       "<style scoped>\n",
       "    .dataframe tbody tr th:only-of-type {\n",
       "        vertical-align: middle;\n",
       "    }\n",
       "\n",
       "    .dataframe tbody tr th {\n",
       "        vertical-align: top;\n",
       "    }\n",
       "\n",
       "    .dataframe thead th {\n",
       "        text-align: right;\n",
       "    }\n",
       "</style>\n",
       "<table border=\"1\" class=\"dataframe\">\n",
       "  <thead>\n",
       "    <tr style=\"text-align: right;\">\n",
       "      <th></th>\n",
       "      <th>Intercept</th>\n",
       "      <th>Slope</th>\n",
       "    </tr>\n",
       "  </thead>\n",
       "  <tbody>\n",
       "    <tr>\n",
       "      <th>0</th>\n",
       "      <td>-0.003009</td>\n",
       "      <td>1.152034</td>\n",
       "    </tr>\n",
       "    <tr>\n",
       "      <th>1</th>\n",
       "      <td>-0.003109</td>\n",
       "      <td>1.152671</td>\n",
       "    </tr>\n",
       "    <tr>\n",
       "      <th>2</th>\n",
       "      <td>-0.003067</td>\n",
       "      <td>1.152232</td>\n",
       "    </tr>\n",
       "    <tr>\n",
       "      <th>3</th>\n",
       "      <td>-0.003067</td>\n",
       "      <td>1.152203</td>\n",
       "    </tr>\n",
       "    <tr>\n",
       "      <th>4</th>\n",
       "      <td>-0.002969</td>\n",
       "      <td>1.151547</td>\n",
       "    </tr>\n",
       "    <tr>\n",
       "      <th>5</th>\n",
       "      <td>-0.003068</td>\n",
       "      <td>1.152608</td>\n",
       "    </tr>\n",
       "    <tr>\n",
       "      <th>6</th>\n",
       "      <td>-0.003140</td>\n",
       "      <td>1.153136</td>\n",
       "    </tr>\n",
       "    <tr>\n",
       "      <th>7</th>\n",
       "      <td>-0.003094</td>\n",
       "      <td>1.152961</td>\n",
       "    </tr>\n",
       "    <tr>\n",
       "      <th>8</th>\n",
       "      <td>-0.003107</td>\n",
       "      <td>1.153058</td>\n",
       "    </tr>\n",
       "    <tr>\n",
       "      <th>9</th>\n",
       "      <td>-0.003266</td>\n",
       "      <td>1.153917</td>\n",
       "    </tr>\n",
       "    <tr>\n",
       "      <th>10</th>\n",
       "      <td>-0.003153</td>\n",
       "      <td>1.153395</td>\n",
       "    </tr>\n",
       "    <tr>\n",
       "      <th>11</th>\n",
       "      <td>-0.003090</td>\n",
       "      <td>1.152637</td>\n",
       "    </tr>\n",
       "    <tr>\n",
       "      <th>12</th>\n",
       "      <td>-0.003084</td>\n",
       "      <td>1.152716</td>\n",
       "    </tr>\n",
       "    <tr>\n",
       "      <th>13</th>\n",
       "      <td>-0.003192</td>\n",
       "      <td>1.153302</td>\n",
       "    </tr>\n",
       "    <tr>\n",
       "      <th>14</th>\n",
       "      <td>-0.003202</td>\n",
       "      <td>1.153659</td>\n",
       "    </tr>\n",
       "    <tr>\n",
       "      <th>15</th>\n",
       "      <td>-0.003206</td>\n",
       "      <td>1.153625</td>\n",
       "    </tr>\n",
       "    <tr>\n",
       "      <th>16</th>\n",
       "      <td>-0.003159</td>\n",
       "      <td>1.153327</td>\n",
       "    </tr>\n",
       "    <tr>\n",
       "      <th>17</th>\n",
       "      <td>-0.003346</td>\n",
       "      <td>1.154947</td>\n",
       "    </tr>\n",
       "  </tbody>\n",
       "</table>\n",
       "</div>"
      ],
      "text/plain": [
       "    Intercept     Slope\n",
       "0   -0.003009  1.152034\n",
       "1   -0.003109  1.152671\n",
       "2   -0.003067  1.152232\n",
       "3   -0.003067  1.152203\n",
       "4   -0.002969  1.151547\n",
       "5   -0.003068  1.152608\n",
       "6   -0.003140  1.153136\n",
       "7   -0.003094  1.152961\n",
       "8   -0.003107  1.153058\n",
       "9   -0.003266  1.153917\n",
       "10  -0.003153  1.153395\n",
       "11  -0.003090  1.152637\n",
       "12  -0.003084  1.152716\n",
       "13  -0.003192  1.153302\n",
       "14  -0.003202  1.153659\n",
       "15  -0.003206  1.153625\n",
       "16  -0.003159  1.153327\n",
       "17  -0.003346  1.154947"
      ]
     },
     "execution_count": 79,
     "metadata": {},
     "output_type": "execute_result"
    }
   ],
   "source": [
    "dfreg"
   ]
  },
  {
   "cell_type": "code",
   "execution_count": 80,
   "metadata": {},
   "outputs": [
    {
     "name": "stderr",
     "output_type": "stream",
     "text": [
      "C:\\Program Files\\Anaconda3\\lib\\site-packages\\pandas\\core\\frame.py:3940: SettingWithCopyWarning: \n",
      "A value is trying to be set on a copy of a slice from a DataFrame\n",
      "\n",
      "See the caveats in the documentation: http://pandas.pydata.org/pandas-docs/stable/indexing.html#indexing-view-versus-copy\n",
      "  errors=errors)\n",
      "C:\\Program Files\\Anaconda3\\lib\\site-packages\\pandas\\core\\frame.py:3940: SettingWithCopyWarning: \n",
      "A value is trying to be set on a copy of a slice from a DataFrame\n",
      "\n",
      "See the caveats in the documentation: http://pandas.pydata.org/pandas-docs/stable/indexing.html#indexing-view-versus-copy\n",
      "  errors=errors)\n",
      "C:\\Program Files\\Anaconda3\\lib\\site-packages\\pandas\\core\\frame.py:3940: SettingWithCopyWarning: \n",
      "A value is trying to be set on a copy of a slice from a DataFrame\n",
      "\n",
      "See the caveats in the documentation: http://pandas.pydata.org/pandas-docs/stable/indexing.html#indexing-view-versus-copy\n",
      "  errors=errors)\n",
      "C:\\Program Files\\Anaconda3\\lib\\site-packages\\pandas\\core\\frame.py:3940: SettingWithCopyWarning: \n",
      "A value is trying to be set on a copy of a slice from a DataFrame\n",
      "\n",
      "See the caveats in the documentation: http://pandas.pydata.org/pandas-docs/stable/indexing.html#indexing-view-versus-copy\n",
      "  errors=errors)\n",
      "C:\\Program Files\\Anaconda3\\lib\\site-packages\\pandas\\core\\frame.py:3940: SettingWithCopyWarning: \n",
      "A value is trying to be set on a copy of a slice from a DataFrame\n",
      "\n",
      "See the caveats in the documentation: http://pandas.pydata.org/pandas-docs/stable/indexing.html#indexing-view-versus-copy\n",
      "  errors=errors)\n",
      "C:\\Program Files\\Anaconda3\\lib\\site-packages\\pandas\\core\\frame.py:3940: SettingWithCopyWarning: \n",
      "A value is trying to be set on a copy of a slice from a DataFrame\n",
      "\n",
      "See the caveats in the documentation: http://pandas.pydata.org/pandas-docs/stable/indexing.html#indexing-view-versus-copy\n",
      "  errors=errors)\n",
      "C:\\Program Files\\Anaconda3\\lib\\site-packages\\pandas\\core\\frame.py:3940: SettingWithCopyWarning: \n",
      "A value is trying to be set on a copy of a slice from a DataFrame\n",
      "\n",
      "See the caveats in the documentation: http://pandas.pydata.org/pandas-docs/stable/indexing.html#indexing-view-versus-copy\n",
      "  errors=errors)\n",
      "C:\\Program Files\\Anaconda3\\lib\\site-packages\\pandas\\core\\frame.py:3940: SettingWithCopyWarning: \n",
      "A value is trying to be set on a copy of a slice from a DataFrame\n",
      "\n",
      "See the caveats in the documentation: http://pandas.pydata.org/pandas-docs/stable/indexing.html#indexing-view-versus-copy\n",
      "  errors=errors)\n",
      "C:\\Program Files\\Anaconda3\\lib\\site-packages\\pandas\\core\\frame.py:3940: SettingWithCopyWarning: \n",
      "A value is trying to be set on a copy of a slice from a DataFrame\n",
      "\n",
      "See the caveats in the documentation: http://pandas.pydata.org/pandas-docs/stable/indexing.html#indexing-view-versus-copy\n",
      "  errors=errors)\n",
      "C:\\Program Files\\Anaconda3\\lib\\site-packages\\pandas\\core\\frame.py:3940: SettingWithCopyWarning: \n",
      "A value is trying to be set on a copy of a slice from a DataFrame\n",
      "\n",
      "See the caveats in the documentation: http://pandas.pydata.org/pandas-docs/stable/indexing.html#indexing-view-versus-copy\n",
      "  errors=errors)\n",
      "C:\\Program Files\\Anaconda3\\lib\\site-packages\\pandas\\core\\frame.py:3940: SettingWithCopyWarning: \n",
      "A value is trying to be set on a copy of a slice from a DataFrame\n",
      "\n",
      "See the caveats in the documentation: http://pandas.pydata.org/pandas-docs/stable/indexing.html#indexing-view-versus-copy\n",
      "  errors=errors)\n",
      "C:\\Program Files\\Anaconda3\\lib\\site-packages\\pandas\\core\\frame.py:3940: SettingWithCopyWarning: \n",
      "A value is trying to be set on a copy of a slice from a DataFrame\n",
      "\n",
      "See the caveats in the documentation: http://pandas.pydata.org/pandas-docs/stable/indexing.html#indexing-view-versus-copy\n",
      "  errors=errors)\n",
      "C:\\Program Files\\Anaconda3\\lib\\site-packages\\pandas\\core\\frame.py:3940: SettingWithCopyWarning: \n",
      "A value is trying to be set on a copy of a slice from a DataFrame\n",
      "\n",
      "See the caveats in the documentation: http://pandas.pydata.org/pandas-docs/stable/indexing.html#indexing-view-versus-copy\n",
      "  errors=errors)\n",
      "C:\\Program Files\\Anaconda3\\lib\\site-packages\\pandas\\core\\frame.py:3940: SettingWithCopyWarning: \n",
      "A value is trying to be set on a copy of a slice from a DataFrame\n",
      "\n",
      "See the caveats in the documentation: http://pandas.pydata.org/pandas-docs/stable/indexing.html#indexing-view-versus-copy\n",
      "  errors=errors)\n",
      "C:\\Program Files\\Anaconda3\\lib\\site-packages\\pandas\\core\\frame.py:3940: SettingWithCopyWarning: \n",
      "A value is trying to be set on a copy of a slice from a DataFrame\n",
      "\n",
      "See the caveats in the documentation: http://pandas.pydata.org/pandas-docs/stable/indexing.html#indexing-view-versus-copy\n",
      "  errors=errors)\n",
      "C:\\Program Files\\Anaconda3\\lib\\site-packages\\pandas\\core\\frame.py:3940: SettingWithCopyWarning: \n",
      "A value is trying to be set on a copy of a slice from a DataFrame\n",
      "\n",
      "See the caveats in the documentation: http://pandas.pydata.org/pandas-docs/stable/indexing.html#indexing-view-versus-copy\n",
      "  errors=errors)\n",
      "C:\\Program Files\\Anaconda3\\lib\\site-packages\\pandas\\core\\frame.py:3940: SettingWithCopyWarning: \n",
      "A value is trying to be set on a copy of a slice from a DataFrame\n",
      "\n",
      "See the caveats in the documentation: http://pandas.pydata.org/pandas-docs/stable/indexing.html#indexing-view-versus-copy\n",
      "  errors=errors)\n",
      "C:\\Program Files\\Anaconda3\\lib\\site-packages\\pandas\\core\\frame.py:3940: SettingWithCopyWarning: \n",
      "A value is trying to be set on a copy of a slice from a DataFrame\n",
      "\n",
      "See the caveats in the documentation: http://pandas.pydata.org/pandas-docs/stable/indexing.html#indexing-view-versus-copy\n",
      "  errors=errors)\n"
     ]
    }
   ],
   "source": [
    "dfreg2 =  pd.DataFrame(columns=['Intercept', 'Slope'])\n",
    "for i in range(18):\n",
    "    productid=my_tab2.index[i]\n",
    "    subframe=frame[frame['productNo']==productid]\n",
    "    subframe.drop(['Unnamed: 0','signal','productNo'],axis=1,inplace=True)\n",
    "    X = subframe['tensionLeft'].values.reshape((-1, 1))\n",
    "    y = subframe['tensionRight'].values\n",
    "    X_train, X_test, y_train, y_test = train_test_split(X, y, test_size=0.2, random_state=0)\n",
    "    regressor = LinearRegression()  \n",
    "    regressor.fit(X_train, y_train)\n",
    "    #coeff_df = pd.DataFrame(regressor.coef_, X.columns, columns=['Coefficient'])  \n",
    "    #coeff_df\n",
    "    #print('intercept:', regressor.intercept_)\n",
    "    #print('slope:', regressor.coef_)\n",
    "    \n",
    "    # Convert the dictionary into DataFrame \n",
    "    #df = pd.DataFrame(data)\n",
    "   # li.append(df)\n",
    "    #regtotal = pd.concat(df, axis=0, ignore_index=False)\n",
    "    dfreg2.loc[i]=[regressor.intercept_,regressor.coef_[0]]"
   ]
  },
  {
   "cell_type": "code",
   "execution_count": 81,
   "metadata": {},
   "outputs": [
    {
     "data": {
      "text/html": [
       "<div>\n",
       "<style scoped>\n",
       "    .dataframe tbody tr th:only-of-type {\n",
       "        vertical-align: middle;\n",
       "    }\n",
       "\n",
       "    .dataframe tbody tr th {\n",
       "        vertical-align: top;\n",
       "    }\n",
       "\n",
       "    .dataframe thead th {\n",
       "        text-align: right;\n",
       "    }\n",
       "</style>\n",
       "<table border=\"1\" class=\"dataframe\">\n",
       "  <thead>\n",
       "    <tr style=\"text-align: right;\">\n",
       "      <th></th>\n",
       "      <th>Intercept</th>\n",
       "      <th>Slope</th>\n",
       "    </tr>\n",
       "  </thead>\n",
       "  <tbody>\n",
       "    <tr>\n",
       "      <th>0</th>\n",
       "      <td>-0.259143</td>\n",
       "      <td>1.021128</td>\n",
       "    </tr>\n",
       "    <tr>\n",
       "      <th>1</th>\n",
       "      <td>-1.231101</td>\n",
       "      <td>1.119103</td>\n",
       "    </tr>\n",
       "    <tr>\n",
       "      <th>2</th>\n",
       "      <td>-1.105328</td>\n",
       "      <td>1.089811</td>\n",
       "    </tr>\n",
       "    <tr>\n",
       "      <th>3</th>\n",
       "      <td>-0.472209</td>\n",
       "      <td>1.077028</td>\n",
       "    </tr>\n",
       "    <tr>\n",
       "      <th>4</th>\n",
       "      <td>-0.086410</td>\n",
       "      <td>1.068869</td>\n",
       "    </tr>\n",
       "    <tr>\n",
       "      <th>5</th>\n",
       "      <td>-0.324066</td>\n",
       "      <td>1.079231</td>\n",
       "    </tr>\n",
       "    <tr>\n",
       "      <th>6</th>\n",
       "      <td>0.199238</td>\n",
       "      <td>1.046641</td>\n",
       "    </tr>\n",
       "    <tr>\n",
       "      <th>7</th>\n",
       "      <td>-0.330294</td>\n",
       "      <td>1.072252</td>\n",
       "    </tr>\n",
       "    <tr>\n",
       "      <th>8</th>\n",
       "      <td>-0.550039</td>\n",
       "      <td>1.101505</td>\n",
       "    </tr>\n",
       "    <tr>\n",
       "      <th>9</th>\n",
       "      <td>-0.648366</td>\n",
       "      <td>1.093448</td>\n",
       "    </tr>\n",
       "    <tr>\n",
       "      <th>10</th>\n",
       "      <td>-0.287506</td>\n",
       "      <td>1.060717</td>\n",
       "    </tr>\n",
       "    <tr>\n",
       "      <th>11</th>\n",
       "      <td>-0.150933</td>\n",
       "      <td>1.080403</td>\n",
       "    </tr>\n",
       "    <tr>\n",
       "      <th>12</th>\n",
       "      <td>0.349032</td>\n",
       "      <td>1.023436</td>\n",
       "    </tr>\n",
       "    <tr>\n",
       "      <th>13</th>\n",
       "      <td>-0.324983</td>\n",
       "      <td>1.071112</td>\n",
       "    </tr>\n",
       "    <tr>\n",
       "      <th>14</th>\n",
       "      <td>-0.313181</td>\n",
       "      <td>1.068484</td>\n",
       "    </tr>\n",
       "    <tr>\n",
       "      <th>15</th>\n",
       "      <td>-1.373872</td>\n",
       "      <td>1.157154</td>\n",
       "    </tr>\n",
       "    <tr>\n",
       "      <th>16</th>\n",
       "      <td>-0.744437</td>\n",
       "      <td>1.096392</td>\n",
       "    </tr>\n",
       "    <tr>\n",
       "      <th>17</th>\n",
       "      <td>-0.354756</td>\n",
       "      <td>1.069652</td>\n",
       "    </tr>\n",
       "  </tbody>\n",
       "</table>\n",
       "</div>"
      ],
      "text/plain": [
       "    Intercept     Slope\n",
       "0   -0.259143  1.021128\n",
       "1   -1.231101  1.119103\n",
       "2   -1.105328  1.089811\n",
       "3   -0.472209  1.077028\n",
       "4   -0.086410  1.068869\n",
       "5   -0.324066  1.079231\n",
       "6    0.199238  1.046641\n",
       "7   -0.330294  1.072252\n",
       "8   -0.550039  1.101505\n",
       "9   -0.648366  1.093448\n",
       "10  -0.287506  1.060717\n",
       "11  -0.150933  1.080403\n",
       "12   0.349032  1.023436\n",
       "13  -0.324983  1.071112\n",
       "14  -0.313181  1.068484\n",
       "15  -1.373872  1.157154\n",
       "16  -0.744437  1.096392\n",
       "17  -0.354756  1.069652"
      ]
     },
     "execution_count": 81,
     "metadata": {},
     "output_type": "execute_result"
    }
   ],
   "source": [
    "dfreg2"
   ]
  },
  {
   "cell_type": "code",
   "execution_count": 82,
   "metadata": {},
   "outputs": [
    {
     "ename": "ValueError",
     "evalue": "DataFrame constructor not properly called!",
     "output_type": "error",
     "traceback": [
      "\u001b[1;31m---------------------------------------------------------------------------\u001b[0m",
      "\u001b[1;31mValueError\u001b[0m                                Traceback (most recent call last)",
      "\u001b[1;32m<ipython-input-82-d2f55bd1777c>\u001b[0m in \u001b[0;36m<module>\u001b[1;34m\u001b[0m\n\u001b[0;32m     22\u001b[0m \u001b[0mjson_data\u001b[0m \u001b[1;33m=\u001b[0m \u001b[0mjson\u001b[0m\u001b[1;33m.\u001b[0m\u001b[0mloads\u001b[0m\u001b[1;33m(\u001b[0m\u001b[0mresponse\u001b[0m\u001b[1;33m.\u001b[0m\u001b[0mtext\u001b[0m\u001b[1;33m)\u001b[0m\u001b[1;33m\u001b[0m\u001b[1;33m\u001b[0m\u001b[0m\n\u001b[0;32m     23\u001b[0m \u001b[0mdata_info\u001b[0m \u001b[1;33m=\u001b[0m \u001b[0mjson_data\u001b[0m\u001b[1;33m[\u001b[0m\u001b[1;34m\"data\"\u001b[0m\u001b[1;33m]\u001b[0m\u001b[1;33m\u001b[0m\u001b[1;33m\u001b[0m\u001b[0m\n\u001b[1;32m---> 24\u001b[1;33m \u001b[0mdf\u001b[0m\u001b[1;33m=\u001b[0m\u001b[0mpd\u001b[0m\u001b[1;33m.\u001b[0m\u001b[0mDataFrame\u001b[0m\u001b[1;33m(\u001b[0m\u001b[0mdata_info\u001b[0m\u001b[1;33m)\u001b[0m\u001b[1;33m\u001b[0m\u001b[1;33m\u001b[0m\u001b[0m\n\u001b[0m\u001b[0;32m     25\u001b[0m \u001b[0mdf\u001b[0m\u001b[1;33m.\u001b[0m\u001b[0mto_csv\u001b[0m\u001b[1;33m(\u001b[0m\u001b[1;34mr\"C:\\Users\\xaa2cng\\Desktop\\tension_0623_20.csv\"\u001b[0m\u001b[1;33m)\u001b[0m\u001b[1;33m\u001b[0m\u001b[1;33m\u001b[0m\u001b[0m\n",
      "\u001b[1;32mC:\\Program Files\\Anaconda3\\lib\\site-packages\\pandas\\core\\frame.py\u001b[0m in \u001b[0;36m__init__\u001b[1;34m(self, data, index, columns, dtype, copy)\u001b[0m\n\u001b[0;32m    466\u001b[0m                                    dtype=values.dtype, copy=False)\n\u001b[0;32m    467\u001b[0m             \u001b[1;32melse\u001b[0m\u001b[1;33m:\u001b[0m\u001b[1;33m\u001b[0m\u001b[1;33m\u001b[0m\u001b[0m\n\u001b[1;32m--> 468\u001b[1;33m                 \u001b[1;32mraise\u001b[0m \u001b[0mValueError\u001b[0m\u001b[1;33m(\u001b[0m\u001b[1;34m'DataFrame constructor not properly called!'\u001b[0m\u001b[1;33m)\u001b[0m\u001b[1;33m\u001b[0m\u001b[1;33m\u001b[0m\u001b[0m\n\u001b[0m\u001b[0;32m    469\u001b[0m \u001b[1;33m\u001b[0m\u001b[0m\n\u001b[0;32m    470\u001b[0m         \u001b[0mNDFrame\u001b[0m\u001b[1;33m.\u001b[0m\u001b[0m__init__\u001b[0m\u001b[1;33m(\u001b[0m\u001b[0mself\u001b[0m\u001b[1;33m,\u001b[0m \u001b[0mmgr\u001b[0m\u001b[1;33m,\u001b[0m \u001b[0mfastpath\u001b[0m\u001b[1;33m=\u001b[0m\u001b[1;32mTrue\u001b[0m\u001b[1;33m)\u001b[0m\u001b[1;33m\u001b[0m\u001b[1;33m\u001b[0m\u001b[0m\n",
      "\u001b[1;31mValueError\u001b[0m: DataFrame constructor not properly called!"
     ]
    }
   ],
   "source": [
    "import json \n",
    "import pandas as pd\n",
    "import requests\n",
    "\n",
    "url = \"http://10.8.144.33:8098/api/getAdListByDate\"\n",
    "#请基于需要修改开始时间和结束时间，时间格式如下： YYYY-MM-DD HH：MM：SS\n",
    "querystring = {\"beginDate\":\"2020-06-23 20:00:00\",\"endDate\":\"2020-06-28 21:00:00\"}\n",
    "\n",
    "headers = {\n",
    "    'User-Agent': \"PostmanRuntime/7.19.0\",\n",
    "    'Accept': \"*/*\",\n",
    "    'Cache-Control': \"no-cache\",\n",
    "    'Postman-Token': \"bbe09df8-c269-45ef-a621-7522c3e0945d,af19bf86-1411-4fba-9727-5a1c575d0710\",\n",
    "    'Host': \"10.8.144.33:8098\",\n",
    "    'Accept-Encoding': \"gzip, deflate\",\n",
    "    'Connection': \"keep-alive\",\n",
    "    'cache-control': \"no-cache\"\n",
    "    }\n",
    "\n",
    "response = requests.request(\"GET\", url, params=querystring)\n",
    "\n",
    "json_data = json.loads(response.text)\n",
    "data_info = json_data[\"data\"]\n",
    "df=pd.DataFrame(data_info)\n",
    "df.to_csv(r\"C:\\Users\\xaa2cng\\Desktop\\tension_0623_20.csv\")"
   ]
  },
  {
   "cell_type": "code",
   "execution_count": null,
   "metadata": {},
   "outputs": [],
   "source": []
  }
 ],
 "metadata": {
  "kernelspec": {
   "display_name": "Python 3",
   "language": "python",
   "name": "python3"
  },
  "language_info": {
   "codemirror_mode": {
    "name": "ipython",
    "version": 3
   },
   "file_extension": ".py",
   "mimetype": "text/x-python",
   "name": "python",
   "nbconvert_exporter": "python",
   "pygments_lexer": "ipython3",
   "version": "3.7.4"
  }
 },
 "nbformat": 4,
 "nbformat_minor": 2
}
